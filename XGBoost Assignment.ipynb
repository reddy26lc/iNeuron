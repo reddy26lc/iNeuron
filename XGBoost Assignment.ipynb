{
 "cells": [
  {
   "cell_type": "markdown",
   "metadata": {},
   "source": [
    "### In this assignment students need to predict whether a person makes over 50K per year or not from classic adult dataset using XGBoost. \n",
    "The description of the dataset is as follows: \n",
    "    \n",
    "Data Set Information:\n",
    "Extraction was done by Barry Becker from the 1994 Census\n",
    "database. A set of reasonably clean records was extracted using the\n",
    "following conditions: ((AAGE>16) && (AGI>100) &&\n",
    "(AFNLWGT>1)&& (HRSWK>0))\n",
    "\n",
    "Attribute Information:\n",
    "- Listing of attributes: >50K, <=50K.\n",
    "- age: continuous.\n",
    "- workclass: Private, Self-emp-not-inc, Self-emp-inc, Federal-gov, Local-gov, State-gov, Without-pay, Never-worked.\n",
    "- fnlwgt: continuous.\n",
    "- education: Bachelors, Some-college, 11th, HS-grad, Prof-school, Assoc-acdm, Assoc-voc, 9th, 7th-8th, 12th, Masters, 1st-4th, 10th, Doctorate, 5th-6th, Preschool.\n",
    "- education-num: continuous.\n",
    "- marital-status: Married-civ-spouse, Divorced, Never-married,\n",
    "- Separated, Widowed, Married-spouse-absent, Married-AF-spouse.\n",
    "- occupation: Tech-support, Craft-repair, Other-service, Sales, Execmanagerial, Prof-specialty, Handlers-cleaners, Machine-op-inspct, Adm-clerical, Farming-fishing, Transport-moving, Priv-house-serv, Protective-serv, Armed-Forces.\n",
    "- relationship: Wife, Own-child, Husband, Not-in-family, Other-relative, Unmarried.\n",
    "- race: White, Asian-Pac-Islander, Amer-Indian-Eskimo, Other, Black.\n",
    "- sex: Female, Male.\n",
    "- capital-gain: continuous.\n",
    "- capital-loss: continuous.\n",
    "- hours-per-week: continuous.\n",
    "- native-country: United-States, Cambodia, England, Puerto-Rico, Canada, Germany, Outlying-US(Guam-USVI-etc), India, Japan, Greece, South, China, Cuba, Iran, Honduras, Philippines, Italy, Poland, Jamaica, Vietnam, Mexico, Portugal, Ireland, France, Dominican-Republic, Laos, Ecuador, Taiwan, Haiti, Columbia, Hungary, Guatemala, Nicaragua, Scotland, Thailand, Yugoslavia, El-Salvador, Trinadad&Tobago, Peru, Hong, Holand-Netherlands."
   ]
  },
  {
   "cell_type": "code",
   "execution_count": 1,
   "metadata": {},
   "outputs": [
    {
     "name": "stderr",
     "output_type": "stream",
     "text": [
      "c:\\users\\leo26\\anaconda3\\lib\\site-packages\\sklearn\\externals\\six.py:31: FutureWarning: The module is deprecated in version 0.21 and will be removed in version 0.23 since we've dropped support for Python 2.7. Please rely on the official version of six (https://pypi.org/project/six/).\n",
      "  \"(https://pypi.org/project/six/).\", FutureWarning)\n"
     ]
    }
   ],
   "source": [
    "#Import the necessary libraries and the data\n",
    "\n",
    "import numpy as np\n",
    "import pandas as pd\n",
    "import seaborn as sns\n",
    "import matplotlib.pyplot as plt\n",
    "import sklearn\n",
    "from pandas import Series, DataFrame\n",
    "from pylab import rcParams\n",
    "from sklearn import preprocessing\n",
    "from sklearn import metrics\n",
    "from sklearn.metrics import classification_report\n",
    "from sklearn import tree\n",
    "from sklearn.model_selection import train_test_split,GridSearchCV\n",
    "from sklearn.preprocessing import StandardScaler\n",
    "from sklearn.metrics import accuracy_score, confusion_matrix, roc_curve, roc_auc_score\n",
    "from sklearn.externals.six import StringIO  \n",
    "from IPython.display import Image  \n",
    "from sklearn.tree import export_graphviz\n",
    "\n",
    "\n",
    "train_set = pd.read_csv('http://archive.ics.uci.edu/ml/machine-learning-databases/adult/adult.data', header = None)\n",
    "test_set = pd.read_csv('http://archive.ics.uci.edu/ml/machine-learning-databases/adult/adult.test', skiprows = 1, header = None)"
   ]
  },
  {
   "cell_type": "code",
   "execution_count": 2,
   "metadata": {},
   "outputs": [],
   "source": [
    "col_labels = ['age', 'workclass', 'fnlwgt', 'education', 'education_num', 'marital_status', 'occupation','relationship', 'race', 'sex', 'capital_gain',\n",
    "'capital_loss', 'hours_per_week', 'native_country', 'wage_class']\n",
    "train_set.columns = col_labels\n",
    "test_set.columns = col_labels"
   ]
  },
  {
   "cell_type": "code",
   "execution_count": 3,
   "metadata": {},
   "outputs": [
    {
     "data": {
      "text/html": [
       "<div>\n",
       "<style scoped>\n",
       "    .dataframe tbody tr th:only-of-type {\n",
       "        vertical-align: middle;\n",
       "    }\n",
       "\n",
       "    .dataframe tbody tr th {\n",
       "        vertical-align: top;\n",
       "    }\n",
       "\n",
       "    .dataframe thead th {\n",
       "        text-align: right;\n",
       "    }\n",
       "</style>\n",
       "<table border=\"1\" class=\"dataframe\">\n",
       "  <thead>\n",
       "    <tr style=\"text-align: right;\">\n",
       "      <th></th>\n",
       "      <th>age</th>\n",
       "      <th>workclass</th>\n",
       "      <th>fnlwgt</th>\n",
       "      <th>education</th>\n",
       "      <th>education_num</th>\n",
       "      <th>marital_status</th>\n",
       "      <th>occupation</th>\n",
       "      <th>relationship</th>\n",
       "      <th>race</th>\n",
       "      <th>sex</th>\n",
       "      <th>capital_gain</th>\n",
       "      <th>capital_loss</th>\n",
       "      <th>hours_per_week</th>\n",
       "      <th>native_country</th>\n",
       "      <th>wage_class</th>\n",
       "    </tr>\n",
       "  </thead>\n",
       "  <tbody>\n",
       "    <tr>\n",
       "      <th>0</th>\n",
       "      <td>39</td>\n",
       "      <td>State-gov</td>\n",
       "      <td>77516</td>\n",
       "      <td>Bachelors</td>\n",
       "      <td>13</td>\n",
       "      <td>Never-married</td>\n",
       "      <td>Adm-clerical</td>\n",
       "      <td>Not-in-family</td>\n",
       "      <td>White</td>\n",
       "      <td>Male</td>\n",
       "      <td>2174</td>\n",
       "      <td>0</td>\n",
       "      <td>40</td>\n",
       "      <td>United-States</td>\n",
       "      <td>&lt;=50K</td>\n",
       "    </tr>\n",
       "    <tr>\n",
       "      <th>1</th>\n",
       "      <td>50</td>\n",
       "      <td>Self-emp-not-inc</td>\n",
       "      <td>83311</td>\n",
       "      <td>Bachelors</td>\n",
       "      <td>13</td>\n",
       "      <td>Married-civ-spouse</td>\n",
       "      <td>Exec-managerial</td>\n",
       "      <td>Husband</td>\n",
       "      <td>White</td>\n",
       "      <td>Male</td>\n",
       "      <td>0</td>\n",
       "      <td>0</td>\n",
       "      <td>13</td>\n",
       "      <td>United-States</td>\n",
       "      <td>&lt;=50K</td>\n",
       "    </tr>\n",
       "    <tr>\n",
       "      <th>2</th>\n",
       "      <td>38</td>\n",
       "      <td>Private</td>\n",
       "      <td>215646</td>\n",
       "      <td>HS-grad</td>\n",
       "      <td>9</td>\n",
       "      <td>Divorced</td>\n",
       "      <td>Handlers-cleaners</td>\n",
       "      <td>Not-in-family</td>\n",
       "      <td>White</td>\n",
       "      <td>Male</td>\n",
       "      <td>0</td>\n",
       "      <td>0</td>\n",
       "      <td>40</td>\n",
       "      <td>United-States</td>\n",
       "      <td>&lt;=50K</td>\n",
       "    </tr>\n",
       "    <tr>\n",
       "      <th>3</th>\n",
       "      <td>53</td>\n",
       "      <td>Private</td>\n",
       "      <td>234721</td>\n",
       "      <td>11th</td>\n",
       "      <td>7</td>\n",
       "      <td>Married-civ-spouse</td>\n",
       "      <td>Handlers-cleaners</td>\n",
       "      <td>Husband</td>\n",
       "      <td>Black</td>\n",
       "      <td>Male</td>\n",
       "      <td>0</td>\n",
       "      <td>0</td>\n",
       "      <td>40</td>\n",
       "      <td>United-States</td>\n",
       "      <td>&lt;=50K</td>\n",
       "    </tr>\n",
       "    <tr>\n",
       "      <th>4</th>\n",
       "      <td>28</td>\n",
       "      <td>Private</td>\n",
       "      <td>338409</td>\n",
       "      <td>Bachelors</td>\n",
       "      <td>13</td>\n",
       "      <td>Married-civ-spouse</td>\n",
       "      <td>Prof-specialty</td>\n",
       "      <td>Wife</td>\n",
       "      <td>Black</td>\n",
       "      <td>Female</td>\n",
       "      <td>0</td>\n",
       "      <td>0</td>\n",
       "      <td>40</td>\n",
       "      <td>Cuba</td>\n",
       "      <td>&lt;=50K</td>\n",
       "    </tr>\n",
       "  </tbody>\n",
       "</table>\n",
       "</div>"
      ],
      "text/plain": [
       "   age          workclass  fnlwgt   education  education_num  \\\n",
       "0   39          State-gov   77516   Bachelors             13   \n",
       "1   50   Self-emp-not-inc   83311   Bachelors             13   \n",
       "2   38            Private  215646     HS-grad              9   \n",
       "3   53            Private  234721        11th              7   \n",
       "4   28            Private  338409   Bachelors             13   \n",
       "\n",
       "        marital_status          occupation    relationship    race      sex  \\\n",
       "0        Never-married        Adm-clerical   Not-in-family   White     Male   \n",
       "1   Married-civ-spouse     Exec-managerial         Husband   White     Male   \n",
       "2             Divorced   Handlers-cleaners   Not-in-family   White     Male   \n",
       "3   Married-civ-spouse   Handlers-cleaners         Husband   Black     Male   \n",
       "4   Married-civ-spouse      Prof-specialty            Wife   Black   Female   \n",
       "\n",
       "   capital_gain  capital_loss  hours_per_week  native_country wage_class  \n",
       "0          2174             0              40   United-States      <=50K  \n",
       "1             0             0              13   United-States      <=50K  \n",
       "2             0             0              40   United-States      <=50K  \n",
       "3             0             0              40   United-States      <=50K  \n",
       "4             0             0              40            Cuba      <=50K  "
      ]
     },
     "execution_count": 3,
     "metadata": {},
     "output_type": "execute_result"
    }
   ],
   "source": [
    "train_set.head()"
   ]
  },
  {
   "cell_type": "code",
   "execution_count": 4,
   "metadata": {},
   "outputs": [
    {
     "data": {
      "text/html": [
       "<div>\n",
       "<style scoped>\n",
       "    .dataframe tbody tr th:only-of-type {\n",
       "        vertical-align: middle;\n",
       "    }\n",
       "\n",
       "    .dataframe tbody tr th {\n",
       "        vertical-align: top;\n",
       "    }\n",
       "\n",
       "    .dataframe thead th {\n",
       "        text-align: right;\n",
       "    }\n",
       "</style>\n",
       "<table border=\"1\" class=\"dataframe\">\n",
       "  <thead>\n",
       "    <tr style=\"text-align: right;\">\n",
       "      <th></th>\n",
       "      <th>age</th>\n",
       "      <th>workclass</th>\n",
       "      <th>fnlwgt</th>\n",
       "      <th>education</th>\n",
       "      <th>education_num</th>\n",
       "      <th>marital_status</th>\n",
       "      <th>occupation</th>\n",
       "      <th>relationship</th>\n",
       "      <th>race</th>\n",
       "      <th>sex</th>\n",
       "      <th>capital_gain</th>\n",
       "      <th>capital_loss</th>\n",
       "      <th>hours_per_week</th>\n",
       "      <th>native_country</th>\n",
       "      <th>wage_class</th>\n",
       "    </tr>\n",
       "  </thead>\n",
       "  <tbody>\n",
       "    <tr>\n",
       "      <th>0</th>\n",
       "      <td>25</td>\n",
       "      <td>Private</td>\n",
       "      <td>226802</td>\n",
       "      <td>11th</td>\n",
       "      <td>7</td>\n",
       "      <td>Never-married</td>\n",
       "      <td>Machine-op-inspct</td>\n",
       "      <td>Own-child</td>\n",
       "      <td>Black</td>\n",
       "      <td>Male</td>\n",
       "      <td>0</td>\n",
       "      <td>0</td>\n",
       "      <td>40</td>\n",
       "      <td>United-States</td>\n",
       "      <td>&lt;=50K.</td>\n",
       "    </tr>\n",
       "    <tr>\n",
       "      <th>1</th>\n",
       "      <td>38</td>\n",
       "      <td>Private</td>\n",
       "      <td>89814</td>\n",
       "      <td>HS-grad</td>\n",
       "      <td>9</td>\n",
       "      <td>Married-civ-spouse</td>\n",
       "      <td>Farming-fishing</td>\n",
       "      <td>Husband</td>\n",
       "      <td>White</td>\n",
       "      <td>Male</td>\n",
       "      <td>0</td>\n",
       "      <td>0</td>\n",
       "      <td>50</td>\n",
       "      <td>United-States</td>\n",
       "      <td>&lt;=50K.</td>\n",
       "    </tr>\n",
       "    <tr>\n",
       "      <th>2</th>\n",
       "      <td>28</td>\n",
       "      <td>Local-gov</td>\n",
       "      <td>336951</td>\n",
       "      <td>Assoc-acdm</td>\n",
       "      <td>12</td>\n",
       "      <td>Married-civ-spouse</td>\n",
       "      <td>Protective-serv</td>\n",
       "      <td>Husband</td>\n",
       "      <td>White</td>\n",
       "      <td>Male</td>\n",
       "      <td>0</td>\n",
       "      <td>0</td>\n",
       "      <td>40</td>\n",
       "      <td>United-States</td>\n",
       "      <td>&gt;50K.</td>\n",
       "    </tr>\n",
       "    <tr>\n",
       "      <th>3</th>\n",
       "      <td>44</td>\n",
       "      <td>Private</td>\n",
       "      <td>160323</td>\n",
       "      <td>Some-college</td>\n",
       "      <td>10</td>\n",
       "      <td>Married-civ-spouse</td>\n",
       "      <td>Machine-op-inspct</td>\n",
       "      <td>Husband</td>\n",
       "      <td>Black</td>\n",
       "      <td>Male</td>\n",
       "      <td>7688</td>\n",
       "      <td>0</td>\n",
       "      <td>40</td>\n",
       "      <td>United-States</td>\n",
       "      <td>&gt;50K.</td>\n",
       "    </tr>\n",
       "    <tr>\n",
       "      <th>4</th>\n",
       "      <td>18</td>\n",
       "      <td>?</td>\n",
       "      <td>103497</td>\n",
       "      <td>Some-college</td>\n",
       "      <td>10</td>\n",
       "      <td>Never-married</td>\n",
       "      <td>?</td>\n",
       "      <td>Own-child</td>\n",
       "      <td>White</td>\n",
       "      <td>Female</td>\n",
       "      <td>0</td>\n",
       "      <td>0</td>\n",
       "      <td>30</td>\n",
       "      <td>United-States</td>\n",
       "      <td>&lt;=50K.</td>\n",
       "    </tr>\n",
       "  </tbody>\n",
       "</table>\n",
       "</div>"
      ],
      "text/plain": [
       "   age   workclass  fnlwgt      education  education_num       marital_status  \\\n",
       "0   25     Private  226802           11th              7        Never-married   \n",
       "1   38     Private   89814        HS-grad              9   Married-civ-spouse   \n",
       "2   28   Local-gov  336951     Assoc-acdm             12   Married-civ-spouse   \n",
       "3   44     Private  160323   Some-college             10   Married-civ-spouse   \n",
       "4   18           ?  103497   Some-college             10        Never-married   \n",
       "\n",
       "           occupation relationship    race      sex  capital_gain  \\\n",
       "0   Machine-op-inspct    Own-child   Black     Male             0   \n",
       "1     Farming-fishing      Husband   White     Male             0   \n",
       "2     Protective-serv      Husband   White     Male             0   \n",
       "3   Machine-op-inspct      Husband   Black     Male          7688   \n",
       "4                   ?    Own-child   White   Female             0   \n",
       "\n",
       "   capital_loss  hours_per_week  native_country wage_class  \n",
       "0             0              40   United-States     <=50K.  \n",
       "1             0              50   United-States     <=50K.  \n",
       "2             0              40   United-States      >50K.  \n",
       "3             0              40   United-States      >50K.  \n",
       "4             0              30   United-States     <=50K.  "
      ]
     },
     "execution_count": 4,
     "metadata": {},
     "output_type": "execute_result"
    }
   ],
   "source": [
    "test_set.head()"
   ]
  },
  {
   "cell_type": "code",
   "execution_count": 5,
   "metadata": {},
   "outputs": [
    {
     "data": {
      "text/plain": [
       "((32561, 15), (16281, 15))"
      ]
     },
     "execution_count": 5,
     "metadata": {},
     "output_type": "execute_result"
    }
   ],
   "source": [
    "train_set.shape, test_set.shape"
   ]
  },
  {
   "cell_type": "code",
   "execution_count": 6,
   "metadata": {},
   "outputs": [
    {
     "data": {
      "text/html": [
       "<div>\n",
       "<style scoped>\n",
       "    .dataframe tbody tr th:only-of-type {\n",
       "        vertical-align: middle;\n",
       "    }\n",
       "\n",
       "    .dataframe tbody tr th {\n",
       "        vertical-align: top;\n",
       "    }\n",
       "\n",
       "    .dataframe thead th {\n",
       "        text-align: right;\n",
       "    }\n",
       "</style>\n",
       "<table border=\"1\" class=\"dataframe\">\n",
       "  <thead>\n",
       "    <tr style=\"text-align: right;\">\n",
       "      <th></th>\n",
       "      <th>age</th>\n",
       "      <th>fnlwgt</th>\n",
       "      <th>education_num</th>\n",
       "      <th>capital_gain</th>\n",
       "      <th>capital_loss</th>\n",
       "      <th>hours_per_week</th>\n",
       "    </tr>\n",
       "  </thead>\n",
       "  <tbody>\n",
       "    <tr>\n",
       "      <th>count</th>\n",
       "      <td>32561.000000</td>\n",
       "      <td>3.256100e+04</td>\n",
       "      <td>32561.000000</td>\n",
       "      <td>32561.000000</td>\n",
       "      <td>32561.000000</td>\n",
       "      <td>32561.000000</td>\n",
       "    </tr>\n",
       "    <tr>\n",
       "      <th>mean</th>\n",
       "      <td>38.581647</td>\n",
       "      <td>1.897784e+05</td>\n",
       "      <td>10.080679</td>\n",
       "      <td>1077.648844</td>\n",
       "      <td>87.303830</td>\n",
       "      <td>40.437456</td>\n",
       "    </tr>\n",
       "    <tr>\n",
       "      <th>std</th>\n",
       "      <td>13.640433</td>\n",
       "      <td>1.055500e+05</td>\n",
       "      <td>2.572720</td>\n",
       "      <td>7385.292085</td>\n",
       "      <td>402.960219</td>\n",
       "      <td>12.347429</td>\n",
       "    </tr>\n",
       "    <tr>\n",
       "      <th>min</th>\n",
       "      <td>17.000000</td>\n",
       "      <td>1.228500e+04</td>\n",
       "      <td>1.000000</td>\n",
       "      <td>0.000000</td>\n",
       "      <td>0.000000</td>\n",
       "      <td>1.000000</td>\n",
       "    </tr>\n",
       "    <tr>\n",
       "      <th>25%</th>\n",
       "      <td>28.000000</td>\n",
       "      <td>1.178270e+05</td>\n",
       "      <td>9.000000</td>\n",
       "      <td>0.000000</td>\n",
       "      <td>0.000000</td>\n",
       "      <td>40.000000</td>\n",
       "    </tr>\n",
       "    <tr>\n",
       "      <th>50%</th>\n",
       "      <td>37.000000</td>\n",
       "      <td>1.783560e+05</td>\n",
       "      <td>10.000000</td>\n",
       "      <td>0.000000</td>\n",
       "      <td>0.000000</td>\n",
       "      <td>40.000000</td>\n",
       "    </tr>\n",
       "    <tr>\n",
       "      <th>75%</th>\n",
       "      <td>48.000000</td>\n",
       "      <td>2.370510e+05</td>\n",
       "      <td>12.000000</td>\n",
       "      <td>0.000000</td>\n",
       "      <td>0.000000</td>\n",
       "      <td>45.000000</td>\n",
       "    </tr>\n",
       "    <tr>\n",
       "      <th>max</th>\n",
       "      <td>90.000000</td>\n",
       "      <td>1.484705e+06</td>\n",
       "      <td>16.000000</td>\n",
       "      <td>99999.000000</td>\n",
       "      <td>4356.000000</td>\n",
       "      <td>99.000000</td>\n",
       "    </tr>\n",
       "  </tbody>\n",
       "</table>\n",
       "</div>"
      ],
      "text/plain": [
       "                age        fnlwgt  education_num  capital_gain  capital_loss  \\\n",
       "count  32561.000000  3.256100e+04   32561.000000  32561.000000  32561.000000   \n",
       "mean      38.581647  1.897784e+05      10.080679   1077.648844     87.303830   \n",
       "std       13.640433  1.055500e+05       2.572720   7385.292085    402.960219   \n",
       "min       17.000000  1.228500e+04       1.000000      0.000000      0.000000   \n",
       "25%       28.000000  1.178270e+05       9.000000      0.000000      0.000000   \n",
       "50%       37.000000  1.783560e+05      10.000000      0.000000      0.000000   \n",
       "75%       48.000000  2.370510e+05      12.000000      0.000000      0.000000   \n",
       "max       90.000000  1.484705e+06      16.000000  99999.000000   4356.000000   \n",
       "\n",
       "       hours_per_week  \n",
       "count    32561.000000  \n",
       "mean        40.437456  \n",
       "std         12.347429  \n",
       "min          1.000000  \n",
       "25%         40.000000  \n",
       "50%         40.000000  \n",
       "75%         45.000000  \n",
       "max         99.000000  "
      ]
     },
     "execution_count": 6,
     "metadata": {},
     "output_type": "execute_result"
    }
   ],
   "source": [
    "train_set.describe()"
   ]
  },
  {
   "cell_type": "code",
   "execution_count": 7,
   "metadata": {},
   "outputs": [
    {
     "data": {
      "text/html": [
       "<div>\n",
       "<style scoped>\n",
       "    .dataframe tbody tr th:only-of-type {\n",
       "        vertical-align: middle;\n",
       "    }\n",
       "\n",
       "    .dataframe tbody tr th {\n",
       "        vertical-align: top;\n",
       "    }\n",
       "\n",
       "    .dataframe thead th {\n",
       "        text-align: right;\n",
       "    }\n",
       "</style>\n",
       "<table border=\"1\" class=\"dataframe\">\n",
       "  <thead>\n",
       "    <tr style=\"text-align: right;\">\n",
       "      <th></th>\n",
       "      <th>age</th>\n",
       "      <th>fnlwgt</th>\n",
       "      <th>education_num</th>\n",
       "      <th>capital_gain</th>\n",
       "      <th>capital_loss</th>\n",
       "      <th>hours_per_week</th>\n",
       "    </tr>\n",
       "  </thead>\n",
       "  <tbody>\n",
       "    <tr>\n",
       "      <th>count</th>\n",
       "      <td>16281.000000</td>\n",
       "      <td>1.628100e+04</td>\n",
       "      <td>16281.000000</td>\n",
       "      <td>16281.000000</td>\n",
       "      <td>16281.000000</td>\n",
       "      <td>16281.000000</td>\n",
       "    </tr>\n",
       "    <tr>\n",
       "      <th>mean</th>\n",
       "      <td>38.767459</td>\n",
       "      <td>1.894357e+05</td>\n",
       "      <td>10.072907</td>\n",
       "      <td>1081.905104</td>\n",
       "      <td>87.899269</td>\n",
       "      <td>40.392236</td>\n",
       "    </tr>\n",
       "    <tr>\n",
       "      <th>std</th>\n",
       "      <td>13.849187</td>\n",
       "      <td>1.057149e+05</td>\n",
       "      <td>2.567545</td>\n",
       "      <td>7583.935968</td>\n",
       "      <td>403.105286</td>\n",
       "      <td>12.479332</td>\n",
       "    </tr>\n",
       "    <tr>\n",
       "      <th>min</th>\n",
       "      <td>17.000000</td>\n",
       "      <td>1.349200e+04</td>\n",
       "      <td>1.000000</td>\n",
       "      <td>0.000000</td>\n",
       "      <td>0.000000</td>\n",
       "      <td>1.000000</td>\n",
       "    </tr>\n",
       "    <tr>\n",
       "      <th>25%</th>\n",
       "      <td>28.000000</td>\n",
       "      <td>1.167360e+05</td>\n",
       "      <td>9.000000</td>\n",
       "      <td>0.000000</td>\n",
       "      <td>0.000000</td>\n",
       "      <td>40.000000</td>\n",
       "    </tr>\n",
       "    <tr>\n",
       "      <th>50%</th>\n",
       "      <td>37.000000</td>\n",
       "      <td>1.778310e+05</td>\n",
       "      <td>10.000000</td>\n",
       "      <td>0.000000</td>\n",
       "      <td>0.000000</td>\n",
       "      <td>40.000000</td>\n",
       "    </tr>\n",
       "    <tr>\n",
       "      <th>75%</th>\n",
       "      <td>48.000000</td>\n",
       "      <td>2.383840e+05</td>\n",
       "      <td>12.000000</td>\n",
       "      <td>0.000000</td>\n",
       "      <td>0.000000</td>\n",
       "      <td>45.000000</td>\n",
       "    </tr>\n",
       "    <tr>\n",
       "      <th>max</th>\n",
       "      <td>90.000000</td>\n",
       "      <td>1.490400e+06</td>\n",
       "      <td>16.000000</td>\n",
       "      <td>99999.000000</td>\n",
       "      <td>3770.000000</td>\n",
       "      <td>99.000000</td>\n",
       "    </tr>\n",
       "  </tbody>\n",
       "</table>\n",
       "</div>"
      ],
      "text/plain": [
       "                age        fnlwgt  education_num  capital_gain  capital_loss  \\\n",
       "count  16281.000000  1.628100e+04   16281.000000  16281.000000  16281.000000   \n",
       "mean      38.767459  1.894357e+05      10.072907   1081.905104     87.899269   \n",
       "std       13.849187  1.057149e+05       2.567545   7583.935968    403.105286   \n",
       "min       17.000000  1.349200e+04       1.000000      0.000000      0.000000   \n",
       "25%       28.000000  1.167360e+05       9.000000      0.000000      0.000000   \n",
       "50%       37.000000  1.778310e+05      10.000000      0.000000      0.000000   \n",
       "75%       48.000000  2.383840e+05      12.000000      0.000000      0.000000   \n",
       "max       90.000000  1.490400e+06      16.000000  99999.000000   3770.000000   \n",
       "\n",
       "       hours_per_week  \n",
       "count    16281.000000  \n",
       "mean        40.392236  \n",
       "std         12.479332  \n",
       "min          1.000000  \n",
       "25%         40.000000  \n",
       "50%         40.000000  \n",
       "75%         45.000000  \n",
       "max         99.000000  "
      ]
     },
     "execution_count": 7,
     "metadata": {},
     "output_type": "execute_result"
    }
   ],
   "source": [
    "test_set.describe()"
   ]
  },
  {
   "cell_type": "code",
   "execution_count": 8,
   "metadata": {},
   "outputs": [
    {
     "name": "stdout",
     "output_type": "stream",
     "text": [
      "age               0\n",
      "workclass         0\n",
      "fnlwgt            0\n",
      "education         0\n",
      "education_num     0\n",
      "marital_status    0\n",
      "occupation        0\n",
      "relationship      0\n",
      "race              0\n",
      "sex               0\n",
      "capital_gain      0\n",
      "capital_loss      0\n",
      "hours_per_week    0\n",
      "native_country    0\n",
      "wage_class        0\n",
      "dtype: int64\n",
      "age               0\n",
      "workclass         0\n",
      "fnlwgt            0\n",
      "education         0\n",
      "education_num     0\n",
      "marital_status    0\n",
      "occupation        0\n",
      "relationship      0\n",
      "race              0\n",
      "sex               0\n",
      "capital_gain      0\n",
      "capital_loss      0\n",
      "hours_per_week    0\n",
      "native_country    0\n",
      "wage_class        0\n",
      "dtype: int64\n"
     ]
    }
   ],
   "source": [
    "#Check for missing values\n",
    "\n",
    "print(train_set.isnull().sum())\n",
    "print(test_set.isnull().sum())"
   ]
  },
  {
   "cell_type": "code",
   "execution_count": 9,
   "metadata": {},
   "outputs": [
    {
     "data": {
      "text/plain": [
       "age                  73\n",
       "workclass             9\n",
       "fnlwgt            21648\n",
       "education            16\n",
       "education_num        16\n",
       "marital_status        7\n",
       "occupation           15\n",
       "relationship          6\n",
       "race                  5\n",
       "sex                   2\n",
       "capital_gain        119\n",
       "capital_loss         92\n",
       "hours_per_week       94\n",
       "native_country       42\n",
       "wage_class            2\n",
       "dtype: int64"
      ]
     },
     "execution_count": 9,
     "metadata": {},
     "output_type": "execute_result"
    }
   ],
   "source": [
    "train_set.nunique()"
   ]
  },
  {
   "cell_type": "code",
   "execution_count": 10,
   "metadata": {},
   "outputs": [
    {
     "data": {
      "text/plain": [
       "age                  73\n",
       "workclass             9\n",
       "fnlwgt            12787\n",
       "education            16\n",
       "education_num        16\n",
       "marital_status        7\n",
       "occupation           15\n",
       "relationship          6\n",
       "race                  5\n",
       "sex                   2\n",
       "capital_gain        113\n",
       "capital_loss         82\n",
       "hours_per_week       89\n",
       "native_country       41\n",
       "wage_class            2\n",
       "dtype: int64"
      ]
     },
     "execution_count": 10,
     "metadata": {},
     "output_type": "execute_result"
    }
   ],
   "source": [
    "test_set.nunique()"
   ]
  },
  {
   "cell_type": "code",
   "execution_count": 11,
   "metadata": {},
   "outputs": [
    {
     "name": "stdout",
     "output_type": "stream",
     "text": [
      "__________ workclass __________\n",
      " Private             22696\n",
      " Self-emp-not-inc     2541\n",
      " Local-gov            2093\n",
      " ?                    1836\n",
      " State-gov            1298\n",
      " Self-emp-inc         1116\n",
      " Federal-gov           960\n",
      " Without-pay            14\n",
      " Never-worked            7\n",
      "Name: workclass, dtype: int64\n",
      "__________ education __________\n",
      " HS-grad         10501\n",
      " Some-college     7291\n",
      " Bachelors        5355\n",
      " Masters          1723\n",
      " Assoc-voc        1382\n",
      " 11th             1175\n",
      " Assoc-acdm       1067\n",
      " 10th              933\n",
      " 7th-8th           646\n",
      " Prof-school       576\n",
      " 9th               514\n",
      " 12th              433\n",
      " Doctorate         413\n",
      " 5th-6th           333\n",
      " 1st-4th           168\n",
      " Preschool          51\n",
      "Name: education, dtype: int64\n",
      "__________ marital_status __________\n",
      " Married-civ-spouse       14976\n",
      " Never-married            10683\n",
      " Divorced                  4443\n",
      " Separated                 1025\n",
      " Widowed                    993\n",
      " Married-spouse-absent      418\n",
      " Married-AF-spouse           23\n",
      "Name: marital_status, dtype: int64\n",
      "__________ occupation __________\n",
      " Prof-specialty       4140\n",
      " Craft-repair         4099\n",
      " Exec-managerial      4066\n",
      " Adm-clerical         3770\n",
      " Sales                3650\n",
      " Other-service        3295\n",
      " Machine-op-inspct    2002\n",
      " ?                    1843\n",
      " Transport-moving     1597\n",
      " Handlers-cleaners    1370\n",
      " Farming-fishing       994\n",
      " Tech-support          928\n",
      " Protective-serv       649\n",
      " Priv-house-serv       149\n",
      " Armed-Forces            9\n",
      "Name: occupation, dtype: int64\n",
      "__________ relationship __________\n",
      " Husband           13193\n",
      " Not-in-family      8305\n",
      " Own-child          5068\n",
      " Unmarried          3446\n",
      " Wife               1568\n",
      " Other-relative      981\n",
      "Name: relationship, dtype: int64\n",
      "__________ race __________\n",
      " White                 27816\n",
      " Black                  3124\n",
      " Asian-Pac-Islander     1039\n",
      " Amer-Indian-Eskimo      311\n",
      " Other                   271\n",
      "Name: race, dtype: int64\n",
      "__________ sex __________\n",
      " Male      21790\n",
      " Female    10771\n",
      "Name: sex, dtype: int64\n",
      "__________ native_country __________\n",
      " United-States                 29170\n",
      " Mexico                          643\n",
      " ?                               583\n",
      " Philippines                     198\n",
      " Germany                         137\n",
      " Canada                          121\n",
      " Puerto-Rico                     114\n",
      " El-Salvador                     106\n",
      " India                           100\n",
      " Cuba                             95\n",
      " England                          90\n",
      " Jamaica                          81\n",
      " South                            80\n",
      " China                            75\n",
      " Italy                            73\n",
      " Dominican-Republic               70\n",
      " Vietnam                          67\n",
      " Guatemala                        64\n",
      " Japan                            62\n",
      " Poland                           60\n",
      " Columbia                         59\n",
      " Taiwan                           51\n",
      " Haiti                            44\n",
      " Iran                             43\n",
      " Portugal                         37\n",
      " Nicaragua                        34\n",
      " Peru                             31\n",
      " France                           29\n",
      " Greece                           29\n",
      " Ecuador                          28\n",
      " Ireland                          24\n",
      " Hong                             20\n",
      " Trinadad&Tobago                  19\n",
      " Cambodia                         19\n",
      " Thailand                         18\n",
      " Laos                             18\n",
      " Yugoslavia                       16\n",
      " Outlying-US(Guam-USVI-etc)       14\n",
      " Hungary                          13\n",
      " Honduras                         13\n",
      " Scotland                         12\n",
      " Holand-Netherlands                1\n",
      "Name: native_country, dtype: int64\n",
      "__________ wage_class __________\n",
      " <=50K    24720\n",
      " >50K      7841\n",
      "Name: wage_class, dtype: int64\n"
     ]
    }
   ],
   "source": [
    "for feature in train_set.columns:    \n",
    "    if train_set[feature].dtype == 'object':\n",
    "        \n",
    "        print('_'*10,feature, end=\" \",)\n",
    "        print('_'*10)\n",
    "        print(train_set[feature].value_counts())"
   ]
  },
  {
   "cell_type": "markdown",
   "metadata": {},
   "source": []
  },
  {
   "cell_type": "markdown",
   "metadata": {},
   "source": [
    "#### Data Visualization"
   ]
  },
  {
   "cell_type": "code",
   "execution_count": 12,
   "metadata": {},
   "outputs": [
    {
     "data": {
      "text/plain": [
       "<matplotlib.axes._subplots.AxesSubplot at 0x19c4a5120b8>"
      ]
     },
     "execution_count": 12,
     "metadata": {},
     "output_type": "execute_result"
    },
    {
     "data": {
      "image/png": "[encoded data removed]",
      "text/plain": [
       "<Figure size 432x288 with 1 Axes>"
      ]
     },
     "metadata": {},
     "output_type": "display_data"
    }
   ],
   "source": [
    "#Let's visualize the data for both train set and test set\n",
    "\n",
    "sns.set_style(\"whitegrid\")\n",
    "sns.countplot(x='wage_class', data = train_set)"
   ]
  },
  {
   "cell_type": "code",
   "execution_count": 13,
   "metadata": {},
   "outputs": [
    {
     "data": {
      "text/plain": [
       "<matplotlib.axes._subplots.AxesSubplot at 0x19c4a5444a8>"
      ]
     },
     "execution_count": 13,
     "metadata": {},
     "output_type": "execute_result"
    },
    {
     "data": {
      "image/png": "[encoded data removed]",
      "text/plain": [
       "<Figure size 432x288 with 1 Axes>"
      ]
     },
     "metadata": {},
     "output_type": "display_data"
    }
   ],
   "source": [
    "sns.set_style(\"whitegrid\")\n",
    "sns.countplot(x='wage_class', data = test_set)"
   ]
  },
  {
   "cell_type": "code",
   "execution_count": 14,
   "metadata": {},
   "outputs": [
    {
     "data": {
      "text/plain": [
       "<matplotlib.axes._subplots.AxesSubplot at 0x19c4a6729b0>"
      ]
     },
     "execution_count": 14,
     "metadata": {},
     "output_type": "execute_result"
    },
    {
     "data": {
      "image/png": "[encoded data removed]",
      "text/plain": [
       "<Figure size 432x288 with 1 Axes>"
      ]
     },
     "metadata": {},
     "output_type": "display_data"
    }
   ],
   "source": [
    "sns.set_style(\"whitegrid\")\n",
    "sns.countplot(hue='wage_class', x='sex', data = train_set)"
   ]
  },
  {
   "cell_type": "code",
   "execution_count": 15,
   "metadata": {},
   "outputs": [
    {
     "data": {
      "text/plain": [
       "<matplotlib.axes._subplots.AxesSubplot at 0x19c4a6e5588>"
      ]
     },
     "execution_count": 15,
     "metadata": {},
     "output_type": "execute_result"
    },
    {
     "data": {
      "image/png": "[encoded data removed]",
      "text/plain": [
       "<Figure size 432x288 with 1 Axes>"
      ]
     },
     "metadata": {},
     "output_type": "display_data"
    }
   ],
   "source": [
    "sns.set_style(\"whitegrid\")\n",
    "sns.countplot(x='wage_class', hue='sex', data = test_set)"
   ]
  },
  {
   "cell_type": "code",
   "execution_count": 16,
   "metadata": {},
   "outputs": [
    {
     "data": {
      "text/plain": [
       "[Text(0, 0, ' State-gov'),\n",
       " Text(0, 0, ' Self-emp-not-inc'),\n",
       " Text(0, 0, ' Private'),\n",
       " Text(0, 0, ' Federal-gov'),\n",
       " Text(0, 0, ' Local-gov'),\n",
       " Text(0, 0, ' ?'),\n",
       " Text(0, 0, ' Self-emp-inc'),\n",
       " Text(0, 0, ' Without-pay'),\n",
       " Text(0, 0, ' Never-worked')]"
      ]
     },
     "execution_count": 16,
     "metadata": {},
     "output_type": "execute_result"
    },
    {
     "data": {
      "image/png": "[encoded data removed]",
      "text/plain": [
       "<Figure size 432x288 with 1 Axes>"
      ]
     },
     "metadata": {},
     "output_type": "display_data"
    }
   ],
   "source": [
    "g = sns.countplot(hue='wage_class', x='workclass', data = train_set)\n",
    "g.set_xticklabels(g.get_xticklabels(), rotation=90, fontsize = 15)"
   ]
  },
  {
   "cell_type": "code",
   "execution_count": 17,
   "metadata": {},
   "outputs": [
    {
     "data": {
      "text/plain": [
       "[Text(0, 0, ' Bachelors'),\n",
       " Text(0, 0, ' HS-grad'),\n",
       " Text(0, 0, ' 11th'),\n",
       " Text(0, 0, ' Masters'),\n",
       " Text(0, 0, ' 9th'),\n",
       " Text(0, 0, ' Some-college'),\n",
       " Text(0, 0, ' Assoc-acdm'),\n",
       " Text(0, 0, ' Assoc-voc'),\n",
       " Text(0, 0, ' 7th-8th'),\n",
       " Text(0, 0, ' Doctorate'),\n",
       " Text(0, 0, ' Prof-school'),\n",
       " Text(0, 0, ' 5th-6th'),\n",
       " Text(0, 0, ' 10th'),\n",
       " Text(0, 0, ' 1st-4th'),\n",
       " Text(0, 0, ' Preschool'),\n",
       " Text(0, 0, ' 12th')]"
      ]
     },
     "execution_count": 17,
     "metadata": {},
     "output_type": "execute_result"
    },
    {
     "data": {
      "image/png": "[encoded data removed]",
      "text/plain": [
       "<Figure size 432x288 with 1 Axes>"
      ]
     },
     "metadata": {},
     "output_type": "display_data"
    }
   ],
   "source": [
    "h = sns.countplot(hue='wage_class', x='education', data = train_set)\n",
    "h.set_xticklabels(h.get_xticklabels(), rotation=90, fontsize = 15)"
   ]
  },
  {
   "cell_type": "markdown",
   "metadata": {},
   "source": [
    "##### Features Native_counrty, Occupation, workclass are having one value as '?' and that needs to be handled. We can get the index of the ? in the above mentioned columns. "
   ]
  },
  {
   "cell_type": "code",
   "execution_count": 18,
   "metadata": {},
   "outputs": [],
   "source": [
    "import re\n",
    "#train_set.columns\n",
    "train_set.rename(columns=lambda name: re.sub(r\"\\-\",'_',name), inplace=True)"
   ]
  },
  {
   "cell_type": "code",
   "execution_count": 19,
   "metadata": {},
   "outputs": [
    {
     "data": {
      "text/plain": [
       "583"
      ]
     },
     "execution_count": 19,
     "metadata": {},
     "output_type": "execute_result"
    }
   ],
   "source": [
    "filter1 = train_set[\"workclass\"]==\"?\"\n",
    "#index= train_set.where(filter1).index\n",
    "index = train_set[train_set[\"native_country\"]== ' ?'].index\n",
    "#index.value_counts()  # to display all the indexes having value '?'\n",
    "index.value_counts().sum()  # sum of those indexes \n",
    "# type(index)"
   ]
  },
  {
   "cell_type": "code",
   "execution_count": 20,
   "metadata": {},
   "outputs": [
    {
     "name": "stdout",
     "output_type": "stream",
     "text": [
      "__________ workclass __________\n",
      "Total `?` in workclass: 1836\n",
      "Total % of `?` in workclass: 5.64\n",
      "__________ occupation __________\n",
      "Total `?` in occupation: 1843\n",
      "Total % of `?` in occupation: 5.66\n",
      "__________ native_country __________\n",
      "Total `?` in native_country: 583\n",
      "Total % of `?` in native_country: 1.79\n"
     ]
    }
   ],
   "source": [
    "#now apply the filter for the '?' value in those above 3 columns\n",
    "\n",
    "indexes_list = [] # will contain three index series of desired syntexes\n",
    "def filter_questionMark(l):\n",
    "    \n",
    "    for item in l:\n",
    "        print('_'*10,item, '_'*10)\n",
    "        index = train_set[train_set[item]== ' ?'].index\n",
    "        indexes_list.append(index)\n",
    "        #index.value_counts()  # to display all the indexes having value '?'\n",
    "        print(\"Total `?` in {0}: {1}\".format(item, index.value_counts().sum()))  # sum of those indexes \n",
    "        print(\"Total % of `?` in {0}: {1}\".format(item, round((index.value_counts().sum()/train_set.shape[0])*100,2)))\n",
    "        \n",
    "filter2= ['workclass','occupation', 'native_country']\n",
    "filter_questionMark(filter2)"
   ]
  },
  {
   "cell_type": "code",
   "execution_count": 21,
   "metadata": {},
   "outputs": [
    {
     "name": "stdout",
     "output_type": "stream",
     "text": [
      "Original Shape of Train Set: (32561, 15)\n",
      "Rows in Train Set: 32561\n"
     ]
    }
   ],
   "source": [
    "print(\"Original Shape of Train Set:\", train_set.shape)\n",
    "print(\"Rows in Train Set:\", train_set.shape[0])"
   ]
  },
  {
   "cell_type": "code",
   "execution_count": 22,
   "metadata": {},
   "outputs": [
    {
     "name": "stdout",
     "output_type": "stream",
     "text": [
      "\n",
      " Droping `?` indexes from `workclass` featutre....\n",
      "Total New rows: 31978\n"
     ]
    }
   ],
   "source": [
    "print('\\n Droping `?` indexes from `workclass` featutre....')\n",
    "train_set= train_set.drop(index)\n",
    "print(\"Total New rows:\",train_set.shape[0])"
   ]
  },
  {
   "cell_type": "code",
   "execution_count": 23,
   "metadata": {},
   "outputs": [
    {
     "name": "stdout",
     "output_type": "stream",
     "text": [
      "\n",
      " Droping `?` indexes from `native_country` featutre....\n",
      "Total New rows: 31978\n"
     ]
    }
   ],
   "source": [
    "print('\\n Droping `?` indexes from `native_country` featutre....')\n",
    "index1= train_set[train_set[\"native_country\"]== ' ?'].index\n",
    "train_set = train_set.drop(index1)\n",
    "print(\"Total New rows:\",train_set.shape[0])"
   ]
  },
  {
   "cell_type": "code",
   "execution_count": 24,
   "metadata": {},
   "outputs": [
    {
     "name": "stdout",
     "output_type": "stream",
     "text": [
      "\n",
      " Droping `?` indexes from `occupation` featutre....\n",
      "Total New rows: 30162\n"
     ]
    }
   ],
   "source": [
    "print('\\n Droping `?` indexes from `occupation` featutre....')\n",
    "index2 = train_set[train_set[\"occupation\"]== ' ?'].index\n",
    "train_set = train_set.drop(index2)\n",
    "print(\"Total New rows:\",train_set.shape[0])"
   ]
  },
  {
   "cell_type": "code",
   "execution_count": 25,
   "metadata": {},
   "outputs": [
    {
     "name": "stdout",
     "output_type": "stream",
     "text": [
      "__________ workclass __________\n",
      "Total `?` in workclass: 0\n",
      "Total % of `?` in workclass: 0.0\n",
      "__________ occupation __________\n",
      "Total `?` in occupation: 0\n",
      "Total % of `?` in occupation: 0.0\n",
      "__________ native_country __________\n",
      "Total `?` in native_country: 0\n",
      "Total % of `?` in native_country: 0.0\n"
     ]
    }
   ],
   "source": [
    "# check for '?' again\n",
    "filter_questionMark(filter2)"
   ]
  },
  {
   "cell_type": "code",
   "execution_count": 26,
   "metadata": {},
   "outputs": [],
   "source": [
    "# let's plot histogram for every column\n",
    "#plt.figure(figsize=(20,25), facecolor='white')\n",
    "#plotnumber = 1\n",
    "\n",
    "#for column in train_set:\n",
    " #   if plotnumber<=9 :     # as there are 9 columns in the data\n",
    "  #      ax = plt.subplot(3,3,plotnumber)\n",
    "   #     sns.countplot(train_set[column])\n",
    "    #    plt.xlabel(column,fontsize=20)\n",
    "     #   plt.ylabel('wage_class',fontsize=20)\n",
    "    #plotnumber+=1\n",
    "#plt.show()"
   ]
  },
  {
   "cell_type": "code",
   "execution_count": 27,
   "metadata": {},
   "outputs": [],
   "source": [
    "# let's plot histogram for every column\n",
    "#plt.figure(figsize=(20,25), facecolor='white')\n",
    "#plotnumber = 1\n",
    "\n",
    "#for column in test_set:\n",
    " #   if plotnumber<=9 :     # as there are 9 columns in the data\n",
    "  #      ax = plt.subplot(3,3,plotnumber)\n",
    "   #     sns.countplot(train_set[column])\n",
    "    #    plt.xlabel(column,fontsize=20)\n",
    "     #   plt.ylabel('wage_class',fontsize=20)\n",
    "    #plotnumber+=1\n",
    "#plt.show()"
   ]
  },
  {
   "cell_type": "markdown",
   "metadata": {},
   "source": [
    "#### Convert all the categorical values to numerical values using one-hot encoding\n"
   ]
  },
  {
   "cell_type": "code",
   "execution_count": 28,
   "metadata": {},
   "outputs": [],
   "source": [
    "df1 = train_set.copy()\n",
    "\n",
    "objectFeature = []\n",
    "for i in list(df1.columns):\n",
    "    if (df1[i].dtypes == 'object'):\n",
    "        objectFeature.append(i)\n",
    "        \n",
    "\n",
    "df1=pd.get_dummies(df1[objectFeature[:-1]])"
   ]
  },
  {
   "cell_type": "code",
   "execution_count": 29,
   "metadata": {},
   "outputs": [],
   "source": [
    "intFeature = []\n",
    "for i in list(train_set.columns):\n",
    "    if (train_set[i].dtypes == 'int64'):\n",
    "        intFeature.append(i)\n",
    "\n",
    "df2 = train_set[intFeature]"
   ]
  },
  {
   "cell_type": "code",
   "execution_count": 30,
   "metadata": {},
   "outputs": [
    {
     "name": "stdout",
     "output_type": "stream",
     "text": [
      "(30162, 98)\n",
      "(30162, 6)\n"
     ]
    }
   ],
   "source": [
    "print(df1.shape)\n",
    "print(df2.shape)"
   ]
  },
  {
   "cell_type": "code",
   "execution_count": 31,
   "metadata": {},
   "outputs": [],
   "source": [
    "X_train = pd.concat([df1, df2], axis=1)"
   ]
  },
  {
   "cell_type": "code",
   "execution_count": 32,
   "metadata": {},
   "outputs": [
    {
     "data": {
      "text/plain": [
       "(30162, 104)"
      ]
     },
     "execution_count": 32,
     "metadata": {},
     "output_type": "execute_result"
    }
   ],
   "source": [
    "X_train.shape   # final dataframe to be get Trained"
   ]
  },
  {
   "cell_type": "markdown",
   "metadata": {},
   "source": [
    "#### Using LabelEncoder for the target variable"
   ]
  },
  {
   "cell_type": "code",
   "execution_count": 33,
   "metadata": {},
   "outputs": [],
   "source": [
    "from sklearn import preprocessing\n",
    "le = preprocessing.LabelEncoder()\n",
    "y=train_set[objectFeature[-1]]\n",
    "le.fit(y)\n",
    "le.classes_   # will display only two classes---> array([' <=50K', ' >50K'], dtype=object)y_train\n",
    "y_train=le.fit_transform(y)"
   ]
  },
  {
   "cell_type": "code",
   "execution_count": 34,
   "metadata": {},
   "outputs": [],
   "source": [
    "y=train_set[objectFeature[-1]]"
   ]
  },
  {
   "cell_type": "code",
   "execution_count": 50,
   "metadata": {},
   "outputs": [
    {
     "data": {
      "text/plain": [
       "array([0, 0, 0, ..., 0, 0, 1])"
      ]
     },
     "execution_count": 50,
     "metadata": {},
     "output_type": "execute_result"
    }
   ],
   "source": [
    "y_train"
   ]
  },
  {
   "cell_type": "markdown",
   "metadata": {},
   "source": [
    "#### Now repeat the same for test data\n",
    "\n"
   ]
  },
  {
   "cell_type": "code",
   "execution_count": 36,
   "metadata": {},
   "outputs": [],
   "source": [
    "df3 = test_set.copy()\n",
    "\n",
    "objectFeature = []\n",
    "for i in list(df3.columns):\n",
    "    if (df3[i].dtypes == 'object'):\n",
    "        objectFeature.append(i)\n",
    "        \n",
    "\n",
    "df3=pd.get_dummies(df3[objectFeature[:-1]])"
   ]
  },
  {
   "cell_type": "code",
   "execution_count": 37,
   "metadata": {},
   "outputs": [],
   "source": [
    "intFeature = []\n",
    "for i in list(test_set.columns):\n",
    "    if (test_set[i].dtypes == 'int64'):\n",
    "        intFeature.append(i)\n",
    "\n",
    "df4 = test_set[intFeature]"
   ]
  },
  {
   "cell_type": "code",
   "execution_count": 38,
   "metadata": {},
   "outputs": [
    {
     "name": "stdout",
     "output_type": "stream",
     "text": [
      "(16281, 101)\n",
      "(16281, 6)\n"
     ]
    }
   ],
   "source": [
    "print(df3.shape)\n",
    "print(df4.shape)"
   ]
  },
  {
   "cell_type": "code",
   "execution_count": 51,
   "metadata": {},
   "outputs": [
    {
     "data": {
      "text/html": [
       "<div>\n",
       "<style scoped>\n",
       "    .dataframe tbody tr th:only-of-type {\n",
       "        vertical-align: middle;\n",
       "    }\n",
       "\n",
       "    .dataframe tbody tr th {\n",
       "        vertical-align: top;\n",
       "    }\n",
       "\n",
       "    .dataframe thead th {\n",
       "        text-align: right;\n",
       "    }\n",
       "</style>\n",
       "<table border=\"1\" class=\"dataframe\">\n",
       "  <thead>\n",
       "    <tr style=\"text-align: right;\">\n",
       "      <th></th>\n",
       "      <th>workclass_ ?</th>\n",
       "      <th>workclass_ Federal-gov</th>\n",
       "      <th>workclass_ Local-gov</th>\n",
       "      <th>workclass_ Never-worked</th>\n",
       "      <th>workclass_ Private</th>\n",
       "      <th>workclass_ Self-emp-inc</th>\n",
       "      <th>workclass_ Self-emp-not-inc</th>\n",
       "      <th>workclass_ State-gov</th>\n",
       "      <th>workclass_ Without-pay</th>\n",
       "      <th>education_ 10th</th>\n",
       "      <th>...</th>\n",
       "      <th>native_country_ Portugal</th>\n",
       "      <th>native_country_ Puerto-Rico</th>\n",
       "      <th>native_country_ Scotland</th>\n",
       "      <th>native_country_ South</th>\n",
       "      <th>native_country_ Taiwan</th>\n",
       "      <th>native_country_ Thailand</th>\n",
       "      <th>native_country_ Trinadad&amp;Tobago</th>\n",
       "      <th>native_country_ United-States</th>\n",
       "      <th>native_country_ Vietnam</th>\n",
       "      <th>native_country_ Yugoslavia</th>\n",
       "    </tr>\n",
       "  </thead>\n",
       "  <tbody>\n",
       "    <tr>\n",
       "      <th>0</th>\n",
       "      <td>0</td>\n",
       "      <td>0</td>\n",
       "      <td>0</td>\n",
       "      <td>0</td>\n",
       "      <td>1</td>\n",
       "      <td>0</td>\n",
       "      <td>0</td>\n",
       "      <td>0</td>\n",
       "      <td>0</td>\n",
       "      <td>0</td>\n",
       "      <td>...</td>\n",
       "      <td>0</td>\n",
       "      <td>0</td>\n",
       "      <td>0</td>\n",
       "      <td>0</td>\n",
       "      <td>0</td>\n",
       "      <td>0</td>\n",
       "      <td>0</td>\n",
       "      <td>1</td>\n",
       "      <td>0</td>\n",
       "      <td>0</td>\n",
       "    </tr>\n",
       "    <tr>\n",
       "      <th>1</th>\n",
       "      <td>0</td>\n",
       "      <td>0</td>\n",
       "      <td>0</td>\n",
       "      <td>0</td>\n",
       "      <td>1</td>\n",
       "      <td>0</td>\n",
       "      <td>0</td>\n",
       "      <td>0</td>\n",
       "      <td>0</td>\n",
       "      <td>0</td>\n",
       "      <td>...</td>\n",
       "      <td>0</td>\n",
       "      <td>0</td>\n",
       "      <td>0</td>\n",
       "      <td>0</td>\n",
       "      <td>0</td>\n",
       "      <td>0</td>\n",
       "      <td>0</td>\n",
       "      <td>1</td>\n",
       "      <td>0</td>\n",
       "      <td>0</td>\n",
       "    </tr>\n",
       "    <tr>\n",
       "      <th>2</th>\n",
       "      <td>0</td>\n",
       "      <td>0</td>\n",
       "      <td>1</td>\n",
       "      <td>0</td>\n",
       "      <td>0</td>\n",
       "      <td>0</td>\n",
       "      <td>0</td>\n",
       "      <td>0</td>\n",
       "      <td>0</td>\n",
       "      <td>0</td>\n",
       "      <td>...</td>\n",
       "      <td>0</td>\n",
       "      <td>0</td>\n",
       "      <td>0</td>\n",
       "      <td>0</td>\n",
       "      <td>0</td>\n",
       "      <td>0</td>\n",
       "      <td>0</td>\n",
       "      <td>1</td>\n",
       "      <td>0</td>\n",
       "      <td>0</td>\n",
       "    </tr>\n",
       "    <tr>\n",
       "      <th>3</th>\n",
       "      <td>0</td>\n",
       "      <td>0</td>\n",
       "      <td>0</td>\n",
       "      <td>0</td>\n",
       "      <td>1</td>\n",
       "      <td>0</td>\n",
       "      <td>0</td>\n",
       "      <td>0</td>\n",
       "      <td>0</td>\n",
       "      <td>0</td>\n",
       "      <td>...</td>\n",
       "      <td>0</td>\n",
       "      <td>0</td>\n",
       "      <td>0</td>\n",
       "      <td>0</td>\n",
       "      <td>0</td>\n",
       "      <td>0</td>\n",
       "      <td>0</td>\n",
       "      <td>1</td>\n",
       "      <td>0</td>\n",
       "      <td>0</td>\n",
       "    </tr>\n",
       "    <tr>\n",
       "      <th>4</th>\n",
       "      <td>1</td>\n",
       "      <td>0</td>\n",
       "      <td>0</td>\n",
       "      <td>0</td>\n",
       "      <td>0</td>\n",
       "      <td>0</td>\n",
       "      <td>0</td>\n",
       "      <td>0</td>\n",
       "      <td>0</td>\n",
       "      <td>0</td>\n",
       "      <td>...</td>\n",
       "      <td>0</td>\n",
       "      <td>0</td>\n",
       "      <td>0</td>\n",
       "      <td>0</td>\n",
       "      <td>0</td>\n",
       "      <td>0</td>\n",
       "      <td>0</td>\n",
       "      <td>1</td>\n",
       "      <td>0</td>\n",
       "      <td>0</td>\n",
       "    </tr>\n",
       "  </tbody>\n",
       "</table>\n",
       "<p>5 rows × 101 columns</p>\n",
       "</div>"
      ],
      "text/plain": [
       "   workclass_ ?  workclass_ Federal-gov  workclass_ Local-gov  \\\n",
       "0             0                       0                     0   \n",
       "1             0                       0                     0   \n",
       "2             0                       0                     1   \n",
       "3             0                       0                     0   \n",
       "4             1                       0                     0   \n",
       "\n",
       "   workclass_ Never-worked  workclass_ Private  workclass_ Self-emp-inc  \\\n",
       "0                        0                   1                        0   \n",
       "1                        0                   1                        0   \n",
       "2                        0                   0                        0   \n",
       "3                        0                   1                        0   \n",
       "4                        0                   0                        0   \n",
       "\n",
       "   workclass_ Self-emp-not-inc  workclass_ State-gov  workclass_ Without-pay  \\\n",
       "0                            0                     0                       0   \n",
       "1                            0                     0                       0   \n",
       "2                            0                     0                       0   \n",
       "3                            0                     0                       0   \n",
       "4                            0                     0                       0   \n",
       "\n",
       "   education_ 10th  ...  native_country_ Portugal  \\\n",
       "0                0  ...                         0   \n",
       "1                0  ...                         0   \n",
       "2                0  ...                         0   \n",
       "3                0  ...                         0   \n",
       "4                0  ...                         0   \n",
       "\n",
       "   native_country_ Puerto-Rico  native_country_ Scotland  \\\n",
       "0                            0                         0   \n",
       "1                            0                         0   \n",
       "2                            0                         0   \n",
       "3                            0                         0   \n",
       "4                            0                         0   \n",
       "\n",
       "   native_country_ South  native_country_ Taiwan  native_country_ Thailand  \\\n",
       "0                      0                       0                         0   \n",
       "1                      0                       0                         0   \n",
       "2                      0                       0                         0   \n",
       "3                      0                       0                         0   \n",
       "4                      0                       0                         0   \n",
       "\n",
       "   native_country_ Trinadad&Tobago  native_country_ United-States  \\\n",
       "0                                0                              1   \n",
       "1                                0                              1   \n",
       "2                                0                              1   \n",
       "3                                0                              1   \n",
       "4                                0                              1   \n",
       "\n",
       "   native_country_ Vietnam  native_country_ Yugoslavia  \n",
       "0                        0                           0  \n",
       "1                        0                           0  \n",
       "2                        0                           0  \n",
       "3                        0                           0  \n",
       "4                        0                           0  \n",
       "\n",
       "[5 rows x 101 columns]"
      ]
     },
     "execution_count": 51,
     "metadata": {},
     "output_type": "execute_result"
    }
   ],
   "source": [
    "df3.head()"
   ]
  },
  {
   "cell_type": "code",
   "execution_count": 39,
   "metadata": {},
   "outputs": [
    {
     "data": {
      "text/plain": [
       "(16281, 107)"
      ]
     },
     "execution_count": 39,
     "metadata": {},
     "output_type": "execute_result"
    }
   ],
   "source": [
    "X_test = pd.concat([df3, df4], axis=1)\n",
    "X_test.shape   # final dataframe to be tested"
   ]
  },
  {
   "cell_type": "code",
   "execution_count": 40,
   "metadata": {},
   "outputs": [],
   "source": [
    "from sklearn import preprocessing\n",
    "le = preprocessing.LabelEncoder()\n",
    "y1=test_set[objectFeature[-1]]\n",
    "le.fit(y1)\n",
    "le.classes_   # will display only two classes---> array([' <=50K', ' >50K'], dtype=object)y_train\n",
    "y_test=le.fit_transform(y1)"
   ]
  },
  {
   "cell_type": "code",
   "execution_count": 41,
   "metadata": {},
   "outputs": [
    {
     "data": {
      "text/plain": [
       "(16281,)"
      ]
     },
     "execution_count": 41,
     "metadata": {},
     "output_type": "execute_result"
    }
   ],
   "source": [
    "y_test.shape"
   ]
  },
  {
   "cell_type": "code",
   "execution_count": 54,
   "metadata": {},
   "outputs": [
    {
     "data": {
      "text/plain": [
       "array([0, 0, 1, ..., 0, 0, 1])"
      ]
     },
     "execution_count": 54,
     "metadata": {},
     "output_type": "execute_result"
    }
   ],
   "source": [
    "y_test"
   ]
  },
  {
   "cell_type": "markdown",
   "metadata": {},
   "source": [
    "### Using the XGBOOST to build the model"
   ]
  },
  {
   "cell_type": "code",
   "execution_count": 59,
   "metadata": {},
   "outputs": [],
   "source": [
    "X_train, X_test, y_train, y_test =train_test_split(X_train, y_train, test_size=.25)"
   ]
  },
  {
   "cell_type": "code",
   "execution_count": 60,
   "metadata": {},
   "outputs": [
    {
     "data": {
      "text/plain": [
       "((22621, 104), (7541, 104), (22621,), (7541,))"
      ]
     },
     "execution_count": 60,
     "metadata": {},
     "output_type": "execute_result"
    }
   ],
   "source": [
    "X_train.shape, X_test.shape, y_train.shape, y_test.shape\n"
   ]
  },
  {
   "cell_type": "code",
   "execution_count": 44,
   "metadata": {},
   "outputs": [
    {
     "name": "stdout",
     "output_type": "stream",
     "text": [
      "Requirement already satisfied: xgboost in c:\\users\\leo26\\anaconda3\\lib\\site-packages (1.2.0)\n",
      "Requirement already satisfied: scipy in c:\\users\\leo26\\anaconda3\\lib\\site-packages (from xgboost) (1.5.1)\n",
      "Requirement already satisfied: numpy in c:\\users\\leo26\\anaconda3\\lib\\site-packages (from xgboost) (1.19.2)\n"
     ]
    }
   ],
   "source": [
    "!pip install xgboost"
   ]
  },
  {
   "cell_type": "code",
   "execution_count": 61,
   "metadata": {},
   "outputs": [],
   "source": [
    "import sklearn\n",
    "from xgboost import XGBClassifier\n",
    "from sklearn.model_selection import train_test_split\n",
    "from sklearn.metrics import accuracy_score"
   ]
  },
  {
   "cell_type": "code",
   "execution_count": 62,
   "metadata": {},
   "outputs": [],
   "source": [
    "params = {\n",
    "    'objective': 'binary:logistic',\n",
    "    'max_depth': 2,\n",
    "    'learning_rate': .5,\n",
    "    'silent': True,    # would be boolean in sklearn\n",
    "    'n_estimators': 100\n",
    "}"
   ]
  },
  {
   "cell_type": "code",
   "execution_count": 63,
   "metadata": {},
   "outputs": [
    {
     "name": "stdout",
     "output_type": "stream",
     "text": [
      "[23:47:43] WARNING: C:\\Users\\Administrator\\workspace\\xgboost-win64_release_1.2.0\\src\\learner.cc:516: \n",
      "Parameters: { silent } might not be used.\n",
      "\n",
      "  This may not be accurate due to some parameters are only used in language bindings but\n",
      "  passed down to XGBoost core.  Or some parameters are not used but slip through this\n",
      "  verification. Please open an issue if you find above cases.\n",
      "\n",
      "\n"
     ]
    }
   ],
   "source": [
    "xgb = XGBClassifier(**params).fit(X_train,y_train)\n",
    "y_pred= xgb.predict(X_test)"
   ]
  },
  {
   "cell_type": "code",
   "execution_count": 64,
   "metadata": {},
   "outputs": [
    {
     "data": {
      "text/plain": [
       "array([[9.8930204e-01, 1.0697980e-02],\n",
       "       [9.5542806e-01, 4.4571925e-02],\n",
       "       [9.9992478e-01, 7.5192693e-05],\n",
       "       ...,\n",
       "       [9.9633181e-01, 3.6681690e-03],\n",
       "       [9.8851633e-01, 1.1483684e-02],\n",
       "       [8.3286428e-01, 1.6713575e-01]], dtype=float32)"
      ]
     },
     "execution_count": 64,
     "metadata": {},
     "output_type": "execute_result"
    }
   ],
   "source": [
    "preds_proba = xgb.predict_proba(X_test)\n",
    "preds_proba"
   ]
  },
  {
   "cell_type": "code",
   "execution_count": 65,
   "metadata": {},
   "outputs": [
    {
     "name": "stdout",
     "output_type": "stream",
     "text": [
      "Predicted correctly: 6510/7541\n",
      "Accuracy score: 0.8633\n",
      "Error: 0.1367\n"
     ]
    }
   ],
   "source": [
    "#Measure the accuracy of the model\n",
    "from sklearn.metrics import accuracy_score\n",
    "\n",
    "correct = 0\n",
    "for i in range(len(y_pred)):\n",
    "    if (y_test[i] == y_pred[i]):\n",
    "        correct += 1\n",
    "        \n",
    "accuracy = accuracy_score(y_test, y_pred)\n",
    "print('Predicted correctly: {0}/{1}'.format(correct, len(y_pred)))\n",
    "print('Accuracy score: {:.4f}'.format(accuracy))\n",
    "print(\"Error: {0:0.4f}\". format(1-accuracy))"
   ]
  },
  {
   "cell_type": "code",
   "execution_count": 66,
   "metadata": {},
   "outputs": [
    {
     "name": "stdout",
     "output_type": "stream",
     "text": [
      "              precision    recall  f1-score   support\n",
      "\n",
      "           0       0.88      0.94      0.91      5655\n",
      "           1       0.78      0.63      0.70      1886\n",
      "\n",
      "    accuracy                           0.86      7541\n",
      "   macro avg       0.83      0.79      0.81      7541\n",
      "weighted avg       0.86      0.86      0.86      7541\n",
      "\n"
     ]
    }
   ],
   "source": [
    "from sklearn.metrics import classification_report\n",
    "print(classification_report(y_test, y_pred))"
   ]
  },
  {
   "cell_type": "code",
   "execution_count": 70,
   "metadata": {},
   "outputs": [
    {
     "name": "stdout",
     "output_type": "stream",
     "text": [
      "Collecting scikit-plot\n",
      "  Downloading scikit_plot-0.3.7-py3-none-any.whl (33 kB)\n",
      "Requirement already satisfied: scipy>=0.9 in c:\\users\\leo26\\anaconda3\\lib\\site-packages (from scikit-plot) (1.5.1)\n",
      "Requirement already satisfied: scikit-learn>=0.18 in c:\\users\\leo26\\anaconda3\\lib\\site-packages (from scikit-plot) (0.22.2.post1)\n",
      "Requirement already satisfied: matplotlib>=1.4.0 in c:\\users\\leo26\\anaconda3\\lib\\site-packages (from scikit-plot) (3.2.2)\n",
      "Requirement already satisfied: joblib>=0.10 in c:\\users\\leo26\\anaconda3\\lib\\site-packages (from scikit-plot) (0.14.1)\n",
      "Requirement already satisfied: numpy>=1.14.5 in c:\\users\\leo26\\anaconda3\\lib\\site-packages (from scipy>=0.9->scikit-plot) (1.19.2)\n",
      "Requirement already satisfied: python-dateutil>=2.1 in c:\\users\\leo26\\anaconda3\\lib\\site-packages (from matplotlib>=1.4.0->scikit-plot) (2.8.0)\n",
      "Requirement already satisfied: cycler>=0.10 in c:\\users\\leo26\\anaconda3\\lib\\site-packages (from matplotlib>=1.4.0->scikit-plot) (0.10.0)\n",
      "Requirement already satisfied: pyparsing!=2.0.4,!=2.1.2,!=2.1.6,>=2.0.1 in c:\\users\\leo26\\anaconda3\\lib\\site-packages (from matplotlib>=1.4.0->scikit-plot) (2.3.1)\n",
      "Requirement already satisfied: kiwisolver>=1.0.1 in c:\\users\\leo26\\anaconda3\\lib\\site-packages (from matplotlib>=1.4.0->scikit-plot) (1.0.1)\n",
      "Requirement already satisfied: six>=1.5 in c:\\users\\leo26\\anaconda3\\lib\\site-packages (from python-dateutil>=2.1->matplotlib>=1.4.0->scikit-plot) (1.12.0)\n",
      "Requirement already satisfied: setuptools in c:\\users\\leo26\\anaconda3\\lib\\site-packages (from kiwisolver>=1.0.1->matplotlib>=1.4.0->scikit-plot) (47.1.1)\n",
      "Installing collected packages: scikit-plot\n",
      "Successfully installed scikit-plot-0.3.7\n"
     ]
    },
    {
     "data": {
      "text/plain": [
       "<matplotlib.axes._subplots.AxesSubplot at 0x19c4f3f87b8>"
      ]
     },
     "execution_count": 70,
     "metadata": {},
     "output_type": "execute_result"
    },
    {
     "data": {
      "image/png": "[encoded data removed]",
      "text/plain": [
       "<Figure size 432x288 with 2 Axes>"
      ]
     },
     "metadata": {},
     "output_type": "display_data"
    }
   ],
   "source": [
    "!pip install scikit-plot\n",
    "\n",
    "import scikitplot\n",
    "scikitplot.metrics.plot_confusion_matrix(y_test, y_pred)\n"
   ]
  },
  {
   "cell_type": "code",
   "execution_count": 71,
   "metadata": {},
   "outputs": [
    {
     "name": "stdout",
     "output_type": "stream",
     "text": [
      "[23:52:09] WARNING: C:\\Users\\Administrator\\workspace\\xgboost-win64_release_1.2.0\\src\\learner.cc:516: \n",
      "Parameters: { silent } might not be used.\n",
      "\n",
      "  This may not be accurate due to some parameters are only used in language bindings but\n",
      "  passed down to XGBoost core.  Or some parameters are not used but slip through this\n",
      "  verification. Please open an issue if you find above cases.\n",
      "\n",
      "\n",
      "[0]\tvalidation_0-error:0.17462\tvalidation_0-logloss:0.50603\tvalidation_1-error:0.17929\tvalidation_1-logloss:0.50876\n",
      "Multiple eval metrics have been passed: 'validation_1-logloss' will be used for early stopping.\n",
      "\n",
      "Will train until validation_1-logloss hasn't improved in 15 rounds.\n",
      "[1]\tvalidation_0-error:0.15835\tvalidation_0-logloss:0.43438\tvalidation_1-error:0.16390\tvalidation_1-logloss:0.43795\n",
      "[2]\tvalidation_0-error:0.15773\tvalidation_0-logloss:0.40005\tvalidation_1-error:0.16311\tvalidation_1-logloss:0.40577\n",
      "[3]\tvalidation_0-error:0.15247\tvalidation_0-logloss:0.37675\tvalidation_1-error:0.15608\tvalidation_1-logloss:0.38205\n",
      "[4]\tvalidation_0-error:0.15327\tvalidation_0-logloss:0.36230\tvalidation_1-error:0.15661\tvalidation_1-logloss:0.36690\n",
      "[5]\tvalidation_0-error:0.15415\tvalidation_0-logloss:0.35149\tvalidation_1-error:0.15780\tvalidation_1-logloss:0.35727\n",
      "[6]\tvalidation_0-error:0.14991\tvalidation_0-logloss:0.34284\tvalidation_1-error:0.15329\tvalidation_1-logloss:0.34909\n",
      "[7]\tvalidation_0-error:0.14907\tvalidation_0-logloss:0.33645\tvalidation_1-error:0.15157\tvalidation_1-logloss:0.34308\n",
      "[8]\tvalidation_0-error:0.14920\tvalidation_0-logloss:0.33140\tvalidation_1-error:0.15157\tvalidation_1-logloss:0.33820\n",
      "[9]\tvalidation_0-error:0.14862\tvalidation_0-logloss:0.32792\tvalidation_1-error:0.15131\tvalidation_1-logloss:0.33486\n",
      "[10]\tvalidation_0-error:0.14880\tvalidation_0-logloss:0.32499\tvalidation_1-error:0.15144\tvalidation_1-logloss:0.33268\n",
      "[11]\tvalidation_0-error:0.14708\tvalidation_0-logloss:0.32225\tvalidation_1-error:0.15024\tvalidation_1-logloss:0.32958\n",
      "[12]\tvalidation_0-error:0.14686\tvalidation_0-logloss:0.32028\tvalidation_1-error:0.14971\tvalidation_1-logloss:0.32787\n",
      "[13]\tvalidation_0-error:0.14628\tvalidation_0-logloss:0.31830\tvalidation_1-error:0.15024\tvalidation_1-logloss:0.32654\n",
      "[14]\tvalidation_0-error:0.14579\tvalidation_0-logloss:0.31625\tvalidation_1-error:0.15024\tvalidation_1-logloss:0.32449\n",
      "[15]\tvalidation_0-error:0.14571\tvalidation_0-logloss:0.31329\tvalidation_1-error:0.14905\tvalidation_1-logloss:0.32214\n",
      "[16]\tvalidation_0-error:0.14447\tvalidation_0-logloss:0.31096\tvalidation_1-error:0.14892\tvalidation_1-logloss:0.31929\n",
      "[17]\tvalidation_0-error:0.14447\tvalidation_0-logloss:0.30995\tvalidation_1-error:0.14932\tvalidation_1-logloss:0.31848\n",
      "[18]\tvalidation_0-error:0.14367\tvalidation_0-logloss:0.30900\tvalidation_1-error:0.14932\tvalidation_1-logloss:0.31782\n",
      "[19]\tvalidation_0-error:0.14411\tvalidation_0-logloss:0.30817\tvalidation_1-error:0.14799\tvalidation_1-logloss:0.31760\n",
      "[20]\tvalidation_0-error:0.14221\tvalidation_0-logloss:0.30721\tvalidation_1-error:0.14905\tvalidation_1-logloss:0.31681\n",
      "[21]\tvalidation_0-error:0.14164\tvalidation_0-logloss:0.30471\tvalidation_1-error:0.14613\tvalidation_1-logloss:0.31322\n",
      "[22]\tvalidation_0-error:0.14217\tvalidation_0-logloss:0.30407\tvalidation_1-error:0.14401\tvalidation_1-logloss:0.31233\n",
      "[23]\tvalidation_0-error:0.14040\tvalidation_0-logloss:0.30326\tvalidation_1-error:0.14468\tvalidation_1-logloss:0.31193\n",
      "[24]\tvalidation_0-error:0.13996\tvalidation_0-logloss:0.30245\tvalidation_1-error:0.14348\tvalidation_1-logloss:0.31070\n",
      "[25]\tvalidation_0-error:0.13930\tvalidation_0-logloss:0.30141\tvalidation_1-error:0.14282\tvalidation_1-logloss:0.30953\n",
      "[26]\tvalidation_0-error:0.13961\tvalidation_0-logloss:0.30088\tvalidation_1-error:0.14242\tvalidation_1-logloss:0.30893\n",
      "[27]\tvalidation_0-error:0.13961\tvalidation_0-logloss:0.30035\tvalidation_1-error:0.14216\tvalidation_1-logloss:0.30856\n",
      "[28]\tvalidation_0-error:0.13899\tvalidation_0-logloss:0.29962\tvalidation_1-error:0.14202\tvalidation_1-logloss:0.30801\n",
      "[29]\tvalidation_0-error:0.13930\tvalidation_0-logloss:0.29900\tvalidation_1-error:0.14282\tvalidation_1-logloss:0.30799\n",
      "[30]\tvalidation_0-error:0.13850\tvalidation_0-logloss:0.29821\tvalidation_1-error:0.14414\tvalidation_1-logloss:0.30766\n",
      "[31]\tvalidation_0-error:0.13801\tvalidation_0-logloss:0.29752\tvalidation_1-error:0.14348\tvalidation_1-logloss:0.30709\n",
      "[32]\tvalidation_0-error:0.13660\tvalidation_0-logloss:0.29557\tvalidation_1-error:0.14255\tvalidation_1-logloss:0.30536\n",
      "[33]\tvalidation_0-error:0.13616\tvalidation_0-logloss:0.29452\tvalidation_1-error:0.14176\tvalidation_1-logloss:0.30413\n",
      "[34]\tvalidation_0-error:0.13594\tvalidation_0-logloss:0.29408\tvalidation_1-error:0.14149\tvalidation_1-logloss:0.30383\n",
      "[35]\tvalidation_0-error:0.13580\tvalidation_0-logloss:0.29336\tvalidation_1-error:0.14109\tvalidation_1-logloss:0.30312\n",
      "[36]\tvalidation_0-error:0.13545\tvalidation_0-logloss:0.29282\tvalidation_1-error:0.14030\tvalidation_1-logloss:0.30296\n",
      "[37]\tvalidation_0-error:0.13554\tvalidation_0-logloss:0.29233\tvalidation_1-error:0.14056\tvalidation_1-logloss:0.30209\n",
      "[38]\tvalidation_0-error:0.13487\tvalidation_0-logloss:0.29154\tvalidation_1-error:0.14017\tvalidation_1-logloss:0.30160\n",
      "[39]\tvalidation_0-error:0.13483\tvalidation_0-logloss:0.29123\tvalidation_1-error:0.14017\tvalidation_1-logloss:0.30161\n",
      "[40]\tvalidation_0-error:0.13474\tvalidation_0-logloss:0.29042\tvalidation_1-error:0.13950\tvalidation_1-logloss:0.30059\n",
      "[41]\tvalidation_0-error:0.13470\tvalidation_0-logloss:0.28981\tvalidation_1-error:0.13924\tvalidation_1-logloss:0.29980\n",
      "[42]\tvalidation_0-error:0.13390\tvalidation_0-logloss:0.28946\tvalidation_1-error:0.13937\tvalidation_1-logloss:0.29954\n",
      "[43]\tvalidation_0-error:0.13386\tvalidation_0-logloss:0.28919\tvalidation_1-error:0.13937\tvalidation_1-logloss:0.29953\n",
      "[44]\tvalidation_0-error:0.13390\tvalidation_0-logloss:0.28893\tvalidation_1-error:0.13924\tvalidation_1-logloss:0.29941\n",
      "[45]\tvalidation_0-error:0.13342\tvalidation_0-logloss:0.28855\tvalidation_1-error:0.13911\tvalidation_1-logloss:0.29944\n",
      "[46]\tvalidation_0-error:0.13359\tvalidation_0-logloss:0.28830\tvalidation_1-error:0.13924\tvalidation_1-logloss:0.29941\n",
      "[47]\tvalidation_0-error:0.13280\tvalidation_0-logloss:0.28802\tvalidation_1-error:0.13871\tvalidation_1-logloss:0.29918\n",
      "[48]\tvalidation_0-error:0.13240\tvalidation_0-logloss:0.28773\tvalidation_1-error:0.13911\tvalidation_1-logloss:0.29896\n",
      "[49]\tvalidation_0-error:0.13209\tvalidation_0-logloss:0.28755\tvalidation_1-error:0.13924\tvalidation_1-logloss:0.29888\n",
      "[50]\tvalidation_0-error:0.13169\tvalidation_0-logloss:0.28731\tvalidation_1-error:0.13897\tvalidation_1-logloss:0.29869\n",
      "[51]\tvalidation_0-error:0.13174\tvalidation_0-logloss:0.28718\tvalidation_1-error:0.13884\tvalidation_1-logloss:0.29865\n",
      "[52]\tvalidation_0-error:0.13160\tvalidation_0-logloss:0.28695\tvalidation_1-error:0.13897\tvalidation_1-logloss:0.29853\n",
      "[53]\tvalidation_0-error:0.13174\tvalidation_0-logloss:0.28670\tvalidation_1-error:0.13871\tvalidation_1-logloss:0.29878\n",
      "[54]\tvalidation_0-error:0.13147\tvalidation_0-logloss:0.28645\tvalidation_1-error:0.13884\tvalidation_1-logloss:0.29862\n",
      "[55]\tvalidation_0-error:0.13169\tvalidation_0-logloss:0.28621\tvalidation_1-error:0.13844\tvalidation_1-logloss:0.29845\n",
      "[56]\tvalidation_0-error:0.13156\tvalidation_0-logloss:0.28597\tvalidation_1-error:0.13805\tvalidation_1-logloss:0.29813\n",
      "[57]\tvalidation_0-error:0.13125\tvalidation_0-logloss:0.28581\tvalidation_1-error:0.13805\tvalidation_1-logloss:0.29789\n",
      "[58]\tvalidation_0-error:0.13129\tvalidation_0-logloss:0.28552\tvalidation_1-error:0.13818\tvalidation_1-logloss:0.29801\n",
      "[59]\tvalidation_0-error:0.13103\tvalidation_0-logloss:0.28531\tvalidation_1-error:0.13791\tvalidation_1-logloss:0.29808\n",
      "[60]\tvalidation_0-error:0.13085\tvalidation_0-logloss:0.28479\tvalidation_1-error:0.13818\tvalidation_1-logloss:0.29748\n",
      "[61]\tvalidation_0-error:0.13032\tvalidation_0-logloss:0.28406\tvalidation_1-error:0.13751\tvalidation_1-logloss:0.29658\n",
      "[62]\tvalidation_0-error:0.13037\tvalidation_0-logloss:0.28388\tvalidation_1-error:0.13765\tvalidation_1-logloss:0.29641\n",
      "[63]\tvalidation_0-error:0.13019\tvalidation_0-logloss:0.28362\tvalidation_1-error:0.13738\tvalidation_1-logloss:0.29624\n",
      "[64]\tvalidation_0-error:0.13019\tvalidation_0-logloss:0.28342\tvalidation_1-error:0.13725\tvalidation_1-logloss:0.29623\n",
      "[65]\tvalidation_0-error:0.13019\tvalidation_0-logloss:0.28333\tvalidation_1-error:0.13725\tvalidation_1-logloss:0.29624\n"
     ]
    },
    {
     "name": "stdout",
     "output_type": "stream",
     "text": [
      "[66]\tvalidation_0-error:0.13015\tvalidation_0-logloss:0.28301\tvalidation_1-error:0.13791\tvalidation_1-logloss:0.29603\n",
      "[67]\tvalidation_0-error:0.13023\tvalidation_0-logloss:0.28278\tvalidation_1-error:0.13778\tvalidation_1-logloss:0.29613\n",
      "[68]\tvalidation_0-error:0.13001\tvalidation_0-logloss:0.28258\tvalidation_1-error:0.13805\tvalidation_1-logloss:0.29613\n",
      "[69]\tvalidation_0-error:0.12979\tvalidation_0-logloss:0.28236\tvalidation_1-error:0.13751\tvalidation_1-logloss:0.29644\n",
      "[70]\tvalidation_0-error:0.12948\tvalidation_0-logloss:0.28223\tvalidation_1-error:0.13685\tvalidation_1-logloss:0.29636\n",
      "[71]\tvalidation_0-error:0.12908\tvalidation_0-logloss:0.28209\tvalidation_1-error:0.13672\tvalidation_1-logloss:0.29636\n",
      "[72]\tvalidation_0-error:0.12904\tvalidation_0-logloss:0.28203\tvalidation_1-error:0.13672\tvalidation_1-logloss:0.29623\n",
      "[73]\tvalidation_0-error:0.12899\tvalidation_0-logloss:0.28196\tvalidation_1-error:0.13725\tvalidation_1-logloss:0.29614\n",
      "[74]\tvalidation_0-error:0.12891\tvalidation_0-logloss:0.28189\tvalidation_1-error:0.13698\tvalidation_1-logloss:0.29617\n",
      "[75]\tvalidation_0-error:0.12869\tvalidation_0-logloss:0.28165\tvalidation_1-error:0.13738\tvalidation_1-logloss:0.29608\n",
      "[76]\tvalidation_0-error:0.12793\tvalidation_0-logloss:0.28133\tvalidation_1-error:0.13791\tvalidation_1-logloss:0.29634\n",
      "[77]\tvalidation_0-error:0.12807\tvalidation_0-logloss:0.28121\tvalidation_1-error:0.13778\tvalidation_1-logloss:0.29639\n",
      "[78]\tvalidation_0-error:0.12798\tvalidation_0-logloss:0.28106\tvalidation_1-error:0.13805\tvalidation_1-logloss:0.29672\n",
      "[79]\tvalidation_0-error:0.12802\tvalidation_0-logloss:0.28091\tvalidation_1-error:0.13818\tvalidation_1-logloss:0.29679\n",
      "[80]\tvalidation_0-error:0.12740\tvalidation_0-logloss:0.28009\tvalidation_1-error:0.13725\tvalidation_1-logloss:0.29561\n",
      "[81]\tvalidation_0-error:0.12679\tvalidation_0-logloss:0.27942\tvalidation_1-error:0.13698\tvalidation_1-logloss:0.29495\n",
      "[82]\tvalidation_0-error:0.12705\tvalidation_0-logloss:0.27901\tvalidation_1-error:0.13725\tvalidation_1-logloss:0.29445\n",
      "[83]\tvalidation_0-error:0.12696\tvalidation_0-logloss:0.27875\tvalidation_1-error:0.13725\tvalidation_1-logloss:0.29444\n",
      "[84]\tvalidation_0-error:0.12714\tvalidation_0-logloss:0.27855\tvalidation_1-error:0.13698\tvalidation_1-logloss:0.29439\n",
      "[85]\tvalidation_0-error:0.12709\tvalidation_0-logloss:0.27844\tvalidation_1-error:0.13698\tvalidation_1-logloss:0.29442\n",
      "[86]\tvalidation_0-error:0.12705\tvalidation_0-logloss:0.27833\tvalidation_1-error:0.13685\tvalidation_1-logloss:0.29448\n",
      "[87]\tvalidation_0-error:0.12674\tvalidation_0-logloss:0.27785\tvalidation_1-error:0.13659\tvalidation_1-logloss:0.29391\n",
      "[88]\tvalidation_0-error:0.12665\tvalidation_0-logloss:0.27760\tvalidation_1-error:0.13659\tvalidation_1-logloss:0.29364\n",
      "[89]\tvalidation_0-error:0.12679\tvalidation_0-logloss:0.27747\tvalidation_1-error:0.13685\tvalidation_1-logloss:0.29371\n",
      "[90]\tvalidation_0-error:0.12674\tvalidation_0-logloss:0.27734\tvalidation_1-error:0.13685\tvalidation_1-logloss:0.29370\n",
      "[91]\tvalidation_0-error:0.12652\tvalidation_0-logloss:0.27726\tvalidation_1-error:0.13685\tvalidation_1-logloss:0.29378\n",
      "[92]\tvalidation_0-error:0.12612\tvalidation_0-logloss:0.27692\tvalidation_1-error:0.13712\tvalidation_1-logloss:0.29413\n",
      "[93]\tvalidation_0-error:0.12603\tvalidation_0-logloss:0.27686\tvalidation_1-error:0.13725\tvalidation_1-logloss:0.29411\n",
      "[94]\tvalidation_0-error:0.12608\tvalidation_0-logloss:0.27653\tvalidation_1-error:0.13698\tvalidation_1-logloss:0.29377\n",
      "[95]\tvalidation_0-error:0.12568\tvalidation_0-logloss:0.27628\tvalidation_1-error:0.13672\tvalidation_1-logloss:0.29354\n",
      "[96]\tvalidation_0-error:0.12608\tvalidation_0-logloss:0.27615\tvalidation_1-error:0.13659\tvalidation_1-logloss:0.29333\n",
      "[97]\tvalidation_0-error:0.12590\tvalidation_0-logloss:0.27598\tvalidation_1-error:0.13672\tvalidation_1-logloss:0.29347\n",
      "[98]\tvalidation_0-error:0.12577\tvalidation_0-logloss:0.27580\tvalidation_1-error:0.13672\tvalidation_1-logloss:0.29331\n",
      "[99]\tvalidation_0-error:0.12563\tvalidation_0-logloss:0.27560\tvalidation_1-error:0.13672\tvalidation_1-logloss:0.29332\n"
     ]
    }
   ],
   "source": [
    "eval_set = [(X_train,y_train), (X_test, y_test)]\n",
    "xgb1 = XGBClassifier(**params).fit(X_train,y_train,\n",
    "                                   early_stopping_rounds=15, \n",
    "                                   eval_metric=[\"error\", \"logloss\"], \n",
    "                                   eval_set=eval_set,\n",
    "                                   verbose=True)"
   ]
  },
  {
   "cell_type": "code",
   "execution_count": 73,
   "metadata": {},
   "outputs": [
    {
     "data": {
      "text/plain": [
       "array([0, 0, 0, ..., 0, 0, 0])"
      ]
     },
     "execution_count": 73,
     "metadata": {},
     "output_type": "execute_result"
    }
   ],
   "source": [
    "y_pred1=xgb1.predict(X_test)\n",
    "y_pred1"
   ]
  },
  {
   "cell_type": "code",
   "execution_count": 75,
   "metadata": {},
   "outputs": [
    {
     "name": "stdout",
     "output_type": "stream",
     "text": [
      "Predicted correctly: 6510/7541\n",
      "Accuracy score: 0.8633\n",
      "Error: 0.1367\n"
     ]
    }
   ],
   "source": [
    "#Measure the accuracy of the model\n",
    "from sklearn.metrics import accuracy_score\n",
    "\n",
    "correct = 0\n",
    "for i in range(len(y_pred1)):\n",
    "    if (y_test[i] == y_pred1[i]):\n",
    "        correct += 1\n",
    "        \n",
    "accuracy = accuracy_score(y_test, y_pred1)\n",
    "print('Predicted correctly: {0}/{1}'.format(correct, len(y_pred1)))\n",
    "print('Accuracy score: {:.4f}'.format(accuracy))\n",
    "print(\"Error: {0:0.4f}\". format(1-accuracy))"
   ]
  },
  {
   "cell_type": "code",
   "execution_count": 76,
   "metadata": {},
   "outputs": [
    {
     "data": {
      "text/plain": [
       "0.8632807319984087"
      ]
     },
     "execution_count": 76,
     "metadata": {},
     "output_type": "execute_result"
    }
   ],
   "source": [
    "accuracy_score(y_test, y_pred1)"
   ]
  },
  {
   "cell_type": "markdown",
   "metadata": {},
   "source": [
    "#### Plotting Classifying errors and log loss with respect to each iteration¶"
   ]
  },
  {
   "cell_type": "code",
   "execution_count": 77,
   "metadata": {},
   "outputs": [
    {
     "data": {
      "image/png": "[encoded data removed]",
      "text/plain": [
       "<Figure size 432x288 with 1 Axes>"
      ]
     },
     "metadata": {},
     "output_type": "display_data"
    },
    {
     "data": {
      "image/png": "[encoded data removed]",
      "text/plain": [
       "<Figure size 432x288 with 1 Axes>"
      ]
     },
     "metadata": {},
     "output_type": "display_data"
    }
   ],
   "source": [
    "# retrieve performance metrics\n",
    "results = xgb1.evals_result()\n",
    "epochs = len(results['validation_0']['error'])\n",
    "x = range(0, epochs)\n",
    "# plot log loss\n",
    "fig, ax = plt.subplots()\n",
    "ax.plot(x, results['validation_0']['logloss'], label='Train')\n",
    "ax.plot(x, results['validation_1']['logloss'], label='Test')\n",
    "ax.legend()\n",
    "plt.ylabel('Log Loss')\n",
    "plt.xlabel('Epochs')\n",
    "plt.title('XGBoost Log Loss')\n",
    "plt.show()\n",
    "# plot classification error\n",
    "fig, ax = plt.subplots()\n",
    "ax.plot(x, results['validation_0']['error'], label='Train')\n",
    "ax.plot(x, results['validation_1']['error'], label='Test')\n",
    "ax.legend()\n",
    "plt.ylabel('Classification Error')\n",
    "plt.xlabel('Epochs')\n",
    "plt.title('XGBoost Classification Error')\n",
    "plt.show()"
   ]
  },
  {
   "cell_type": "code",
   "execution_count": 78,
   "metadata": {},
   "outputs": [],
   "source": [
    "params = {\n",
    "    'objective': 'binary:logistic',\n",
    "    'max_depth': 20,\n",
    "    'learning_rate': .01,\n",
    "    'silent': True,    # would be boolean in sklearn\n",
    "    'n_estimators': 200\n",
    "}"
   ]
  },
  {
   "cell_type": "code",
   "execution_count": 80,
   "metadata": {},
   "outputs": [
    {
     "name": "stdout",
     "output_type": "stream",
     "text": [
      "[23:55:24] WARNING: C:\\Users\\Administrator\\workspace\\xgboost-win64_release_1.2.0\\src\\learner.cc:516: \n",
      "Parameters: { silent } might not be used.\n",
      "\n",
      "  This may not be accurate due to some parameters are only used in language bindings but\n",
      "  passed down to XGBoost core.  Or some parameters are not used but slip through this\n",
      "  verification. Please open an issue if you find above cases.\n",
      "\n",
      "\n",
      "[0]\tvalidation_0-error:0.09580\tvalidation_0-logloss:0.68635\tvalidation_1-error:0.16364\tvalidation_1-logloss:0.68715\n",
      "Multiple eval metrics have been passed: 'validation_1-logloss' will be used for early stopping.\n",
      "\n",
      "Will train until validation_1-logloss hasn't improved in 15 rounds.\n",
      "[1]\tvalidation_0-error:0.09491\tvalidation_0-logloss:0.67974\tvalidation_1-error:0.16298\tvalidation_1-logloss:0.68128\n",
      "[2]\tvalidation_0-error:0.09610\tvalidation_0-logloss:0.67324\tvalidation_1-error:0.16245\tvalidation_1-logloss:0.67554\n",
      "[3]\tvalidation_0-error:0.09460\tvalidation_0-logloss:0.66683\tvalidation_1-error:0.15966\tvalidation_1-logloss:0.66986\n",
      "[4]\tvalidation_0-error:0.09394\tvalidation_0-logloss:0.66056\tvalidation_1-error:0.15913\tvalidation_1-logloss:0.66434\n",
      "[5]\tvalidation_0-error:0.09381\tvalidation_0-logloss:0.65440\tvalidation_1-error:0.15900\tvalidation_1-logloss:0.65894\n",
      "[6]\tvalidation_0-error:0.09341\tvalidation_0-logloss:0.64833\tvalidation_1-error:0.15873\tvalidation_1-logloss:0.65360\n",
      "[7]\tvalidation_0-error:0.09248\tvalidation_0-logloss:0.64237\tvalidation_1-error:0.15780\tvalidation_1-logloss:0.64841\n",
      "[8]\tvalidation_0-error:0.09270\tvalidation_0-logloss:0.63653\tvalidation_1-error:0.15966\tvalidation_1-logloss:0.64328\n",
      "[9]\tvalidation_0-error:0.09151\tvalidation_0-logloss:0.63074\tvalidation_1-error:0.15794\tvalidation_1-logloss:0.63823\n",
      "[10]\tvalidation_0-error:0.09098\tvalidation_0-logloss:0.62511\tvalidation_1-error:0.15847\tvalidation_1-logloss:0.63333\n",
      "[11]\tvalidation_0-error:0.09076\tvalidation_0-logloss:0.61953\tvalidation_1-error:0.15780\tvalidation_1-logloss:0.62847\n",
      "[12]\tvalidation_0-error:0.09076\tvalidation_0-logloss:0.61409\tvalidation_1-error:0.15767\tvalidation_1-logloss:0.62375\n",
      "[13]\tvalidation_0-error:0.09107\tvalidation_0-logloss:0.60875\tvalidation_1-error:0.15714\tvalidation_1-logloss:0.61909\n",
      "[14]\tvalidation_0-error:0.09040\tvalidation_0-logloss:0.60347\tvalidation_1-error:0.15714\tvalidation_1-logloss:0.61452\n",
      "[15]\tvalidation_0-error:0.08978\tvalidation_0-logloss:0.59825\tvalidation_1-error:0.15780\tvalidation_1-logloss:0.61002\n",
      "[16]\tvalidation_0-error:0.08996\tvalidation_0-logloss:0.59317\tvalidation_1-error:0.15873\tvalidation_1-logloss:0.60562\n",
      "[17]\tvalidation_0-error:0.08916\tvalidation_0-logloss:0.58814\tvalidation_1-error:0.15741\tvalidation_1-logloss:0.60130\n",
      "[18]\tvalidation_0-error:0.08903\tvalidation_0-logloss:0.58316\tvalidation_1-error:0.15688\tvalidation_1-logloss:0.59703\n",
      "[19]\tvalidation_0-error:0.08850\tvalidation_0-logloss:0.57830\tvalidation_1-error:0.15674\tvalidation_1-logloss:0.59284\n",
      "[20]\tvalidation_0-error:0.08841\tvalidation_0-logloss:0.57350\tvalidation_1-error:0.15688\tvalidation_1-logloss:0.58875\n",
      "[21]\tvalidation_0-error:0.08837\tvalidation_0-logloss:0.56882\tvalidation_1-error:0.15754\tvalidation_1-logloss:0.58474\n",
      "[22]\tvalidation_0-error:0.08806\tvalidation_0-logloss:0.56416\tvalidation_1-error:0.15741\tvalidation_1-logloss:0.58078\n",
      "[23]\tvalidation_0-error:0.08726\tvalidation_0-logloss:0.55957\tvalidation_1-error:0.15661\tvalidation_1-logloss:0.57684\n",
      "[24]\tvalidation_0-error:0.08704\tvalidation_0-logloss:0.55506\tvalidation_1-error:0.15754\tvalidation_1-logloss:0.57302\n",
      "[25]\tvalidation_0-error:0.08647\tvalidation_0-logloss:0.55062\tvalidation_1-error:0.15674\tvalidation_1-logloss:0.56925\n",
      "[26]\tvalidation_0-error:0.08642\tvalidation_0-logloss:0.54625\tvalidation_1-error:0.15608\tvalidation_1-logloss:0.56555\n",
      "[27]\tvalidation_0-error:0.08616\tvalidation_0-logloss:0.54193\tvalidation_1-error:0.15502\tvalidation_1-logloss:0.56190\n",
      "[28]\tvalidation_0-error:0.08616\tvalidation_0-logloss:0.53771\tvalidation_1-error:0.15555\tvalidation_1-logloss:0.55834\n",
      "[29]\tvalidation_0-error:0.08589\tvalidation_0-logloss:0.53354\tvalidation_1-error:0.15409\tvalidation_1-logloss:0.55481\n",
      "[30]\tvalidation_0-error:0.08541\tvalidation_0-logloss:0.52949\tvalidation_1-error:0.15356\tvalidation_1-logloss:0.55132\n",
      "[31]\tvalidation_0-error:0.08581\tvalidation_0-logloss:0.52541\tvalidation_1-error:0.15369\tvalidation_1-logloss:0.54792\n",
      "[32]\tvalidation_0-error:0.08541\tvalidation_0-logloss:0.52138\tvalidation_1-error:0.15343\tvalidation_1-logloss:0.54456\n",
      "[33]\tvalidation_0-error:0.08554\tvalidation_0-logloss:0.51747\tvalidation_1-error:0.15277\tvalidation_1-logloss:0.54128\n",
      "[34]\tvalidation_0-error:0.08501\tvalidation_0-logloss:0.51356\tvalidation_1-error:0.15343\tvalidation_1-logloss:0.53805\n",
      "[35]\tvalidation_0-error:0.08501\tvalidation_0-logloss:0.50971\tvalidation_1-error:0.15303\tvalidation_1-logloss:0.53488\n",
      "[36]\tvalidation_0-error:0.08501\tvalidation_0-logloss:0.50592\tvalidation_1-error:0.15383\tvalidation_1-logloss:0.53172\n",
      "[37]\tvalidation_0-error:0.08448\tvalidation_0-logloss:0.50224\tvalidation_1-error:0.15343\tvalidation_1-logloss:0.52860\n",
      "[38]\tvalidation_0-error:0.08457\tvalidation_0-logloss:0.49853\tvalidation_1-error:0.15356\tvalidation_1-logloss:0.52557\n",
      "[39]\tvalidation_0-error:0.08408\tvalidation_0-logloss:0.49490\tvalidation_1-error:0.15396\tvalidation_1-logloss:0.52256\n",
      "[40]\tvalidation_0-error:0.08364\tvalidation_0-logloss:0.49134\tvalidation_1-error:0.15303\tvalidation_1-logloss:0.51961\n",
      "[41]\tvalidation_0-error:0.08404\tvalidation_0-logloss:0.48780\tvalidation_1-error:0.15343\tvalidation_1-logloss:0.51671\n",
      "[42]\tvalidation_0-error:0.08320\tvalidation_0-logloss:0.48432\tvalidation_1-error:0.15303\tvalidation_1-logloss:0.51384\n",
      "[43]\tvalidation_0-error:0.08324\tvalidation_0-logloss:0.48093\tvalidation_1-error:0.15303\tvalidation_1-logloss:0.51105\n",
      "[44]\tvalidation_0-error:0.08311\tvalidation_0-logloss:0.47752\tvalidation_1-error:0.15237\tvalidation_1-logloss:0.50828\n",
      "[45]\tvalidation_0-error:0.08337\tvalidation_0-logloss:0.47415\tvalidation_1-error:0.15369\tvalidation_1-logloss:0.50555\n",
      "[46]\tvalidation_0-error:0.08298\tvalidation_0-logloss:0.47086\tvalidation_1-error:0.15343\tvalidation_1-logloss:0.50291\n",
      "[47]\tvalidation_0-error:0.08306\tvalidation_0-logloss:0.46759\tvalidation_1-error:0.15383\tvalidation_1-logloss:0.50027\n",
      "[48]\tvalidation_0-error:0.08275\tvalidation_0-logloss:0.46433\tvalidation_1-error:0.15343\tvalidation_1-logloss:0.49768\n",
      "[49]\tvalidation_0-error:0.08236\tvalidation_0-logloss:0.46117\tvalidation_1-error:0.15329\tvalidation_1-logloss:0.49510\n",
      "[50]\tvalidation_0-error:0.08236\tvalidation_0-logloss:0.45806\tvalidation_1-error:0.15250\tvalidation_1-logloss:0.49260\n",
      "[51]\tvalidation_0-error:0.08231\tvalidation_0-logloss:0.45497\tvalidation_1-error:0.15210\tvalidation_1-logloss:0.49012\n",
      "[52]\tvalidation_0-error:0.08174\tvalidation_0-logloss:0.45193\tvalidation_1-error:0.15210\tvalidation_1-logloss:0.48768\n",
      "[53]\tvalidation_0-error:0.08161\tvalidation_0-logloss:0.44892\tvalidation_1-error:0.15223\tvalidation_1-logloss:0.48528\n",
      "[54]\tvalidation_0-error:0.08134\tvalidation_0-logloss:0.44598\tvalidation_1-error:0.15237\tvalidation_1-logloss:0.48290\n",
      "[55]\tvalidation_0-error:0.08130\tvalidation_0-logloss:0.44304\tvalidation_1-error:0.15223\tvalidation_1-logloss:0.48057\n",
      "[56]\tvalidation_0-error:0.08072\tvalidation_0-logloss:0.44014\tvalidation_1-error:0.15197\tvalidation_1-logloss:0.47828\n",
      "[57]\tvalidation_0-error:0.08085\tvalidation_0-logloss:0.43729\tvalidation_1-error:0.15170\tvalidation_1-logloss:0.47602\n",
      "[58]\tvalidation_0-error:0.08077\tvalidation_0-logloss:0.43448\tvalidation_1-error:0.15091\tvalidation_1-logloss:0.47381\n",
      "[59]\tvalidation_0-error:0.08032\tvalidation_0-logloss:0.43169\tvalidation_1-error:0.15157\tvalidation_1-logloss:0.47162\n",
      "[60]\tvalidation_0-error:0.08032\tvalidation_0-logloss:0.42893\tvalidation_1-error:0.15091\tvalidation_1-logloss:0.46944\n",
      "[61]\tvalidation_0-error:0.07979\tvalidation_0-logloss:0.42617\tvalidation_1-error:0.15091\tvalidation_1-logloss:0.46734\n",
      "[62]\tvalidation_0-error:0.07975\tvalidation_0-logloss:0.42346\tvalidation_1-error:0.15170\tvalidation_1-logloss:0.46523\n",
      "[63]\tvalidation_0-error:0.07926\tvalidation_0-logloss:0.42085\tvalidation_1-error:0.15131\tvalidation_1-logloss:0.46318\n",
      "[64]\tvalidation_0-error:0.07904\tvalidation_0-logloss:0.41817\tvalidation_1-error:0.15064\tvalidation_1-logloss:0.46115\n",
      "[65]\tvalidation_0-error:0.07900\tvalidation_0-logloss:0.41555\tvalidation_1-error:0.15091\tvalidation_1-logloss:0.45913\n"
     ]
    },
    {
     "name": "stdout",
     "output_type": "stream",
     "text": [
      "[66]\tvalidation_0-error:0.07873\tvalidation_0-logloss:0.41297\tvalidation_1-error:0.15117\tvalidation_1-logloss:0.45718\n",
      "[67]\tvalidation_0-error:0.07833\tvalidation_0-logloss:0.41044\tvalidation_1-error:0.15131\tvalidation_1-logloss:0.45524\n",
      "[68]\tvalidation_0-error:0.07816\tvalidation_0-logloss:0.40791\tvalidation_1-error:0.15131\tvalidation_1-logloss:0.45331\n",
      "[69]\tvalidation_0-error:0.07798\tvalidation_0-logloss:0.40542\tvalidation_1-error:0.15131\tvalidation_1-logloss:0.45143\n",
      "[70]\tvalidation_0-error:0.07816\tvalidation_0-logloss:0.40298\tvalidation_1-error:0.15064\tvalidation_1-logloss:0.44955\n",
      "[71]\tvalidation_0-error:0.07772\tvalidation_0-logloss:0.40054\tvalidation_1-error:0.15078\tvalidation_1-logloss:0.44773\n",
      "[72]\tvalidation_0-error:0.07714\tvalidation_0-logloss:0.39815\tvalidation_1-error:0.15011\tvalidation_1-logloss:0.44592\n",
      "[73]\tvalidation_0-error:0.07696\tvalidation_0-logloss:0.39581\tvalidation_1-error:0.14985\tvalidation_1-logloss:0.44417\n",
      "[74]\tvalidation_0-error:0.07696\tvalidation_0-logloss:0.39344\tvalidation_1-error:0.14998\tvalidation_1-logloss:0.44243\n",
      "[75]\tvalidation_0-error:0.07692\tvalidation_0-logloss:0.39114\tvalidation_1-error:0.14971\tvalidation_1-logloss:0.44072\n",
      "[76]\tvalidation_0-error:0.07670\tvalidation_0-logloss:0.38889\tvalidation_1-error:0.14998\tvalidation_1-logloss:0.43904\n",
      "[77]\tvalidation_0-error:0.07657\tvalidation_0-logloss:0.38666\tvalidation_1-error:0.14998\tvalidation_1-logloss:0.43733\n",
      "[78]\tvalidation_0-error:0.07679\tvalidation_0-logloss:0.38442\tvalidation_1-error:0.15011\tvalidation_1-logloss:0.43567\n",
      "[79]\tvalidation_0-error:0.07674\tvalidation_0-logloss:0.38220\tvalidation_1-error:0.14932\tvalidation_1-logloss:0.43406\n",
      "[80]\tvalidation_0-error:0.07679\tvalidation_0-logloss:0.38001\tvalidation_1-error:0.14918\tvalidation_1-logloss:0.43244\n",
      "[81]\tvalidation_0-error:0.07670\tvalidation_0-logloss:0.37787\tvalidation_1-error:0.14945\tvalidation_1-logloss:0.43084\n",
      "[82]\tvalidation_0-error:0.07665\tvalidation_0-logloss:0.37576\tvalidation_1-error:0.14918\tvalidation_1-logloss:0.42931\n",
      "[83]\tvalidation_0-error:0.07648\tvalidation_0-logloss:0.37366\tvalidation_1-error:0.14892\tvalidation_1-logloss:0.42780\n",
      "[84]\tvalidation_0-error:0.07674\tvalidation_0-logloss:0.37160\tvalidation_1-error:0.14879\tvalidation_1-logloss:0.42629\n",
      "[85]\tvalidation_0-error:0.07648\tvalidation_0-logloss:0.36956\tvalidation_1-error:0.14905\tvalidation_1-logloss:0.42480\n",
      "[86]\tvalidation_0-error:0.07643\tvalidation_0-logloss:0.36754\tvalidation_1-error:0.14905\tvalidation_1-logloss:0.42332\n",
      "[87]\tvalidation_0-error:0.07626\tvalidation_0-logloss:0.36556\tvalidation_1-error:0.14892\tvalidation_1-logloss:0.42179\n",
      "[88]\tvalidation_0-error:0.07595\tvalidation_0-logloss:0.36356\tvalidation_1-error:0.14905\tvalidation_1-logloss:0.42034\n",
      "[89]\tvalidation_0-error:0.07577\tvalidation_0-logloss:0.36156\tvalidation_1-error:0.14905\tvalidation_1-logloss:0.41887\n",
      "[90]\tvalidation_0-error:0.07586\tvalidation_0-logloss:0.35961\tvalidation_1-error:0.14839\tvalidation_1-logloss:0.41745\n",
      "[91]\tvalidation_0-error:0.07568\tvalidation_0-logloss:0.35768\tvalidation_1-error:0.14839\tvalidation_1-logloss:0.41605\n",
      "[92]\tvalidation_0-error:0.07524\tvalidation_0-logloss:0.35575\tvalidation_1-error:0.14826\tvalidation_1-logloss:0.41467\n",
      "[93]\tvalidation_0-error:0.07502\tvalidation_0-logloss:0.35386\tvalidation_1-error:0.14826\tvalidation_1-logloss:0.41330\n",
      "[94]\tvalidation_0-error:0.07458\tvalidation_0-logloss:0.35199\tvalidation_1-error:0.14799\tvalidation_1-logloss:0.41195\n",
      "[95]\tvalidation_0-error:0.07440\tvalidation_0-logloss:0.35011\tvalidation_1-error:0.14852\tvalidation_1-logloss:0.41062\n",
      "[96]\tvalidation_0-error:0.07449\tvalidation_0-logloss:0.34830\tvalidation_1-error:0.14812\tvalidation_1-logloss:0.40932\n",
      "[97]\tvalidation_0-error:0.07400\tvalidation_0-logloss:0.34650\tvalidation_1-error:0.14786\tvalidation_1-logloss:0.40803\n",
      "[98]\tvalidation_0-error:0.07422\tvalidation_0-logloss:0.34471\tvalidation_1-error:0.14773\tvalidation_1-logloss:0.40676\n",
      "[99]\tvalidation_0-error:0.07387\tvalidation_0-logloss:0.34293\tvalidation_1-error:0.14799\tvalidation_1-logloss:0.40551\n",
      "[100]\tvalidation_0-error:0.07396\tvalidation_0-logloss:0.34120\tvalidation_1-error:0.14812\tvalidation_1-logloss:0.40428\n",
      "[101]\tvalidation_0-error:0.07360\tvalidation_0-logloss:0.33948\tvalidation_1-error:0.14812\tvalidation_1-logloss:0.40306\n",
      "[102]\tvalidation_0-error:0.07352\tvalidation_0-logloss:0.33778\tvalidation_1-error:0.14812\tvalidation_1-logloss:0.40187\n",
      "[103]\tvalidation_0-error:0.07338\tvalidation_0-logloss:0.33605\tvalidation_1-error:0.14812\tvalidation_1-logloss:0.40065\n",
      "[104]\tvalidation_0-error:0.07338\tvalidation_0-logloss:0.33440\tvalidation_1-error:0.14826\tvalidation_1-logloss:0.39950\n",
      "[105]\tvalidation_0-error:0.07316\tvalidation_0-logloss:0.33273\tvalidation_1-error:0.14826\tvalidation_1-logloss:0.39831\n",
      "[106]\tvalidation_0-error:0.07321\tvalidation_0-logloss:0.33108\tvalidation_1-error:0.14852\tvalidation_1-logloss:0.39715\n",
      "[107]\tvalidation_0-error:0.07281\tvalidation_0-logloss:0.32947\tvalidation_1-error:0.14839\tvalidation_1-logloss:0.39601\n",
      "[108]\tvalidation_0-error:0.07259\tvalidation_0-logloss:0.32792\tvalidation_1-error:0.14812\tvalidation_1-logloss:0.39489\n",
      "[109]\tvalidation_0-error:0.07268\tvalidation_0-logloss:0.32638\tvalidation_1-error:0.14812\tvalidation_1-logloss:0.39374\n",
      "[110]\tvalidation_0-error:0.07250\tvalidation_0-logloss:0.32482\tvalidation_1-error:0.14826\tvalidation_1-logloss:0.39262\n",
      "[111]\tvalidation_0-error:0.07241\tvalidation_0-logloss:0.32330\tvalidation_1-error:0.14826\tvalidation_1-logloss:0.39151\n",
      "[112]\tvalidation_0-error:0.07237\tvalidation_0-logloss:0.32177\tvalidation_1-error:0.14799\tvalidation_1-logloss:0.39042\n",
      "[113]\tvalidation_0-error:0.07254\tvalidation_0-logloss:0.32025\tvalidation_1-error:0.14759\tvalidation_1-logloss:0.38937\n",
      "[114]\tvalidation_0-error:0.07232\tvalidation_0-logloss:0.31879\tvalidation_1-error:0.14786\tvalidation_1-logloss:0.38832\n",
      "[115]\tvalidation_0-error:0.07232\tvalidation_0-logloss:0.31731\tvalidation_1-error:0.14759\tvalidation_1-logloss:0.38728\n",
      "[116]\tvalidation_0-error:0.07201\tvalidation_0-logloss:0.31581\tvalidation_1-error:0.14719\tvalidation_1-logloss:0.38624\n",
      "[117]\tvalidation_0-error:0.07192\tvalidation_0-logloss:0.31437\tvalidation_1-error:0.14693\tvalidation_1-logloss:0.38525\n",
      "[118]\tvalidation_0-error:0.07179\tvalidation_0-logloss:0.31291\tvalidation_1-error:0.14733\tvalidation_1-logloss:0.38420\n",
      "[119]\tvalidation_0-error:0.07153\tvalidation_0-logloss:0.31149\tvalidation_1-error:0.14706\tvalidation_1-logloss:0.38319\n",
      "[120]\tvalidation_0-error:0.07126\tvalidation_0-logloss:0.31006\tvalidation_1-error:0.14666\tvalidation_1-logloss:0.38217\n",
      "[121]\tvalidation_0-error:0.07113\tvalidation_0-logloss:0.30867\tvalidation_1-error:0.14613\tvalidation_1-logloss:0.38121\n",
      "[122]\tvalidation_0-error:0.07117\tvalidation_0-logloss:0.30728\tvalidation_1-error:0.14666\tvalidation_1-logloss:0.38023\n",
      "[123]\tvalidation_0-error:0.07100\tvalidation_0-logloss:0.30591\tvalidation_1-error:0.14627\tvalidation_1-logloss:0.37927\n",
      "[124]\tvalidation_0-error:0.07086\tvalidation_0-logloss:0.30454\tvalidation_1-error:0.14640\tvalidation_1-logloss:0.37835\n",
      "[125]\tvalidation_0-error:0.07082\tvalidation_0-logloss:0.30320\tvalidation_1-error:0.14653\tvalidation_1-logloss:0.37744\n",
      "[126]\tvalidation_0-error:0.07069\tvalidation_0-logloss:0.30187\tvalidation_1-error:0.14653\tvalidation_1-logloss:0.37657\n",
      "[127]\tvalidation_0-error:0.07051\tvalidation_0-logloss:0.30055\tvalidation_1-error:0.14627\tvalidation_1-logloss:0.37566\n",
      "[128]\tvalidation_0-error:0.07042\tvalidation_0-logloss:0.29923\tvalidation_1-error:0.14653\tvalidation_1-logloss:0.37477\n",
      "[129]\tvalidation_0-error:0.07038\tvalidation_0-logloss:0.29797\tvalidation_1-error:0.14627\tvalidation_1-logloss:0.37391\n",
      "[130]\tvalidation_0-error:0.07011\tvalidation_0-logloss:0.29667\tvalidation_1-error:0.14653\tvalidation_1-logloss:0.37304\n",
      "[131]\tvalidation_0-error:0.07011\tvalidation_0-logloss:0.29540\tvalidation_1-error:0.14627\tvalidation_1-logloss:0.37219\n",
      "[132]\tvalidation_0-error:0.06993\tvalidation_0-logloss:0.29417\tvalidation_1-error:0.14600\tvalidation_1-logloss:0.37137\n",
      "[133]\tvalidation_0-error:0.06971\tvalidation_0-logloss:0.29292\tvalidation_1-error:0.14627\tvalidation_1-logloss:0.37054\n",
      "[134]\tvalidation_0-error:0.06967\tvalidation_0-logloss:0.29169\tvalidation_1-error:0.14574\tvalidation_1-logloss:0.36971\n",
      "[135]\tvalidation_0-error:0.06932\tvalidation_0-logloss:0.29042\tvalidation_1-error:0.14640\tvalidation_1-logloss:0.36892\n"
     ]
    },
    {
     "name": "stdout",
     "output_type": "stream",
     "text": [
      "[136]\tvalidation_0-error:0.06940\tvalidation_0-logloss:0.28922\tvalidation_1-error:0.14600\tvalidation_1-logloss:0.36814\n",
      "[137]\tvalidation_0-error:0.06940\tvalidation_0-logloss:0.28805\tvalidation_1-error:0.14600\tvalidation_1-logloss:0.36737\n",
      "[138]\tvalidation_0-error:0.06918\tvalidation_0-logloss:0.28685\tvalidation_1-error:0.14640\tvalidation_1-logloss:0.36660\n",
      "[139]\tvalidation_0-error:0.06923\tvalidation_0-logloss:0.28568\tvalidation_1-error:0.14640\tvalidation_1-logloss:0.36585\n",
      "[140]\tvalidation_0-error:0.06901\tvalidation_0-logloss:0.28447\tvalidation_1-error:0.14653\tvalidation_1-logloss:0.36511\n",
      "[141]\tvalidation_0-error:0.06887\tvalidation_0-logloss:0.28329\tvalidation_1-error:0.14653\tvalidation_1-logloss:0.36436\n",
      "[142]\tvalidation_0-error:0.06879\tvalidation_0-logloss:0.28215\tvalidation_1-error:0.14680\tvalidation_1-logloss:0.36363\n",
      "[143]\tvalidation_0-error:0.06861\tvalidation_0-logloss:0.28104\tvalidation_1-error:0.14693\tvalidation_1-logloss:0.36292\n",
      "[144]\tvalidation_0-error:0.06848\tvalidation_0-logloss:0.27987\tvalidation_1-error:0.14653\tvalidation_1-logloss:0.36221\n",
      "[145]\tvalidation_0-error:0.06848\tvalidation_0-logloss:0.27876\tvalidation_1-error:0.14653\tvalidation_1-logloss:0.36151\n",
      "[146]\tvalidation_0-error:0.06830\tvalidation_0-logloss:0.27766\tvalidation_1-error:0.14627\tvalidation_1-logloss:0.36080\n",
      "[147]\tvalidation_0-error:0.06803\tvalidation_0-logloss:0.27654\tvalidation_1-error:0.14627\tvalidation_1-logloss:0.36011\n",
      "[148]\tvalidation_0-error:0.06781\tvalidation_0-logloss:0.27546\tvalidation_1-error:0.14653\tvalidation_1-logloss:0.35944\n",
      "[149]\tvalidation_0-error:0.06768\tvalidation_0-logloss:0.27438\tvalidation_1-error:0.14680\tvalidation_1-logloss:0.35877\n",
      "[150]\tvalidation_0-error:0.06755\tvalidation_0-logloss:0.27335\tvalidation_1-error:0.14666\tvalidation_1-logloss:0.35810\n",
      "[151]\tvalidation_0-error:0.06750\tvalidation_0-logloss:0.27232\tvalidation_1-error:0.14680\tvalidation_1-logloss:0.35745\n",
      "[152]\tvalidation_0-error:0.06750\tvalidation_0-logloss:0.27130\tvalidation_1-error:0.14653\tvalidation_1-logloss:0.35681\n",
      "[153]\tvalidation_0-error:0.06737\tvalidation_0-logloss:0.27028\tvalidation_1-error:0.14640\tvalidation_1-logloss:0.35619\n",
      "[154]\tvalidation_0-error:0.06697\tvalidation_0-logloss:0.26927\tvalidation_1-error:0.14627\tvalidation_1-logloss:0.35557\n",
      "[155]\tvalidation_0-error:0.06702\tvalidation_0-logloss:0.26828\tvalidation_1-error:0.14627\tvalidation_1-logloss:0.35497\n",
      "[156]\tvalidation_0-error:0.06693\tvalidation_0-logloss:0.26730\tvalidation_1-error:0.14640\tvalidation_1-logloss:0.35438\n",
      "[157]\tvalidation_0-error:0.06680\tvalidation_0-logloss:0.26631\tvalidation_1-error:0.14653\tvalidation_1-logloss:0.35378\n",
      "[158]\tvalidation_0-error:0.06675\tvalidation_0-logloss:0.26534\tvalidation_1-error:0.14666\tvalidation_1-logloss:0.35322\n",
      "[159]\tvalidation_0-error:0.06671\tvalidation_0-logloss:0.26437\tvalidation_1-error:0.14653\tvalidation_1-logloss:0.35265\n",
      "[160]\tvalidation_0-error:0.06657\tvalidation_0-logloss:0.26341\tvalidation_1-error:0.14600\tvalidation_1-logloss:0.35208\n",
      "[161]\tvalidation_0-error:0.06644\tvalidation_0-logloss:0.26245\tvalidation_1-error:0.14640\tvalidation_1-logloss:0.35151\n",
      "[162]\tvalidation_0-error:0.06640\tvalidation_0-logloss:0.26152\tvalidation_1-error:0.14640\tvalidation_1-logloss:0.35097\n",
      "[163]\tvalidation_0-error:0.06622\tvalidation_0-logloss:0.26058\tvalidation_1-error:0.14613\tvalidation_1-logloss:0.35042\n",
      "[164]\tvalidation_0-error:0.06591\tvalidation_0-logloss:0.25969\tvalidation_1-error:0.14666\tvalidation_1-logloss:0.34985\n",
      "[165]\tvalidation_0-error:0.06578\tvalidation_0-logloss:0.25877\tvalidation_1-error:0.14627\tvalidation_1-logloss:0.34928\n",
      "[166]\tvalidation_0-error:0.06587\tvalidation_0-logloss:0.25785\tvalidation_1-error:0.14613\tvalidation_1-logloss:0.34872\n",
      "[167]\tvalidation_0-error:0.06600\tvalidation_0-logloss:0.25692\tvalidation_1-error:0.14613\tvalidation_1-logloss:0.34817\n",
      "[168]\tvalidation_0-error:0.06574\tvalidation_0-logloss:0.25606\tvalidation_1-error:0.14574\tvalidation_1-logloss:0.34763\n",
      "[169]\tvalidation_0-error:0.06578\tvalidation_0-logloss:0.25521\tvalidation_1-error:0.14587\tvalidation_1-logloss:0.34708\n",
      "[170]\tvalidation_0-error:0.06574\tvalidation_0-logloss:0.25436\tvalidation_1-error:0.14560\tvalidation_1-logloss:0.34653\n",
      "[171]\tvalidation_0-error:0.06574\tvalidation_0-logloss:0.25351\tvalidation_1-error:0.14560\tvalidation_1-logloss:0.34599\n",
      "[172]\tvalidation_0-error:0.06556\tvalidation_0-logloss:0.25266\tvalidation_1-error:0.14534\tvalidation_1-logloss:0.34546\n",
      "[173]\tvalidation_0-error:0.06565\tvalidation_0-logloss:0.25183\tvalidation_1-error:0.14534\tvalidation_1-logloss:0.34496\n",
      "[174]\tvalidation_0-error:0.06574\tvalidation_0-logloss:0.25103\tvalidation_1-error:0.14494\tvalidation_1-logloss:0.34443\n",
      "[175]\tvalidation_0-error:0.06560\tvalidation_0-logloss:0.25022\tvalidation_1-error:0.14468\tvalidation_1-logloss:0.34391\n",
      "[176]\tvalidation_0-error:0.06551\tvalidation_0-logloss:0.24940\tvalidation_1-error:0.14494\tvalidation_1-logloss:0.34343\n",
      "[177]\tvalidation_0-error:0.06560\tvalidation_0-logloss:0.24862\tvalidation_1-error:0.14494\tvalidation_1-logloss:0.34292\n",
      "[178]\tvalidation_0-error:0.06516\tvalidation_0-logloss:0.24784\tvalidation_1-error:0.14494\tvalidation_1-logloss:0.34243\n",
      "[179]\tvalidation_0-error:0.06520\tvalidation_0-logloss:0.24704\tvalidation_1-error:0.14494\tvalidation_1-logloss:0.34196\n",
      "[180]\tvalidation_0-error:0.06520\tvalidation_0-logloss:0.24623\tvalidation_1-error:0.14481\tvalidation_1-logloss:0.34150\n",
      "[181]\tvalidation_0-error:0.06494\tvalidation_0-logloss:0.24538\tvalidation_1-error:0.14507\tvalidation_1-logloss:0.34106\n",
      "[182]\tvalidation_0-error:0.06503\tvalidation_0-logloss:0.24464\tvalidation_1-error:0.14481\tvalidation_1-logloss:0.34061\n",
      "[183]\tvalidation_0-error:0.06476\tvalidation_0-logloss:0.24380\tvalidation_1-error:0.14481\tvalidation_1-logloss:0.34018\n",
      "[184]\tvalidation_0-error:0.06463\tvalidation_0-logloss:0.24302\tvalidation_1-error:0.14481\tvalidation_1-logloss:0.33973\n",
      "[185]\tvalidation_0-error:0.06459\tvalidation_0-logloss:0.24224\tvalidation_1-error:0.14494\tvalidation_1-logloss:0.33932\n",
      "[186]\tvalidation_0-error:0.06445\tvalidation_0-logloss:0.24143\tvalidation_1-error:0.14454\tvalidation_1-logloss:0.33888\n",
      "[187]\tvalidation_0-error:0.06437\tvalidation_0-logloss:0.24067\tvalidation_1-error:0.14441\tvalidation_1-logloss:0.33843\n",
      "[188]\tvalidation_0-error:0.06401\tvalidation_0-logloss:0.23987\tvalidation_1-error:0.14468\tvalidation_1-logloss:0.33804\n",
      "[189]\tvalidation_0-error:0.06379\tvalidation_0-logloss:0.23915\tvalidation_1-error:0.14468\tvalidation_1-logloss:0.33760\n",
      "[190]\tvalidation_0-error:0.06388\tvalidation_0-logloss:0.23836\tvalidation_1-error:0.14468\tvalidation_1-logloss:0.33720\n",
      "[191]\tvalidation_0-error:0.06348\tvalidation_0-logloss:0.23754\tvalidation_1-error:0.14454\tvalidation_1-logloss:0.33679\n",
      "[192]\tvalidation_0-error:0.06326\tvalidation_0-logloss:0.23674\tvalidation_1-error:0.14454\tvalidation_1-logloss:0.33642\n",
      "[193]\tvalidation_0-error:0.06317\tvalidation_0-logloss:0.23593\tvalidation_1-error:0.14428\tvalidation_1-logloss:0.33606\n",
      "[194]\tvalidation_0-error:0.06299\tvalidation_0-logloss:0.23515\tvalidation_1-error:0.14401\tvalidation_1-logloss:0.33570\n",
      "[195]\tvalidation_0-error:0.06295\tvalidation_0-logloss:0.23436\tvalidation_1-error:0.14388\tvalidation_1-logloss:0.33534\n",
      "[196]\tvalidation_0-error:0.06273\tvalidation_0-logloss:0.23363\tvalidation_1-error:0.14441\tvalidation_1-logloss:0.33497\n",
      "[197]\tvalidation_0-error:0.06246\tvalidation_0-logloss:0.23284\tvalidation_1-error:0.14388\tvalidation_1-logloss:0.33463\n",
      "[198]\tvalidation_0-error:0.06242\tvalidation_0-logloss:0.23208\tvalidation_1-error:0.14348\tvalidation_1-logloss:0.33429\n",
      "[199]\tvalidation_0-error:0.06229\tvalidation_0-logloss:0.23133\tvalidation_1-error:0.14335\tvalidation_1-logloss:0.33398\n"
     ]
    }
   ],
   "source": [
    "eval_set = [(X_train,y_train), (X_test, y_test)]\n",
    "xgb1 = XGBClassifier(**params).fit(X_train,y_train,\n",
    "                                   early_stopping_rounds=15, \n",
    "                                   eval_metric=[\"error\", \"logloss\"], \n",
    "                                   eval_set=eval_set,\n",
    "                                   verbose=True)"
   ]
  },
  {
   "cell_type": "code",
   "execution_count": 81,
   "metadata": {},
   "outputs": [
    {
     "data": {
      "image/png": "[encoded data removed]",
      "text/plain": [
       "<Figure size 432x288 with 1 Axes>"
      ]
     },
     "metadata": {},
     "output_type": "display_data"
    },
    {
     "data": {
      "image/png": "[encoded data removed]",
      "text/plain": [
       "<Figure size 432x288 with 1 Axes>"
      ]
     },
     "metadata": {},
     "output_type": "display_data"
    }
   ],
   "source": [
    "# retrieve performance metrics\n",
    "results = xgb1.evals_result()\n",
    "epochs = len(results['validation_0']['error'])\n",
    "x = range(0, epochs)\n",
    "# plot log loss\n",
    "fig, ax = plt.subplots()\n",
    "ax.plot(x, results['validation_0']['logloss'], label='Train')\n",
    "ax.plot(x, results['validation_1']['logloss'], label='Test')\n",
    "ax.legend()\n",
    "plt.ylabel('Log Loss')\n",
    "plt.xlabel('Epochs')\n",
    "plt.title('XGBoost Log Loss')\n",
    "plt.show()\n",
    "# plot classification error\n",
    "fig, ax = plt.subplots()\n",
    "ax.plot(x, results['validation_0']['error'], label='Train')\n",
    "ax.plot(x, results['validation_1']['error'], label='Test')\n",
    "ax.legend()\n",
    "plt.ylabel('Classification Error')\n",
    "plt.xlabel('Epochs')\n",
    "plt.title('XGBoost Classification Error')\n",
    "plt.show()"
   ]
  },
  {
   "cell_type": "code",
   "execution_count": 82,
   "metadata": {},
   "outputs": [],
   "source": [
    "#Import Xgboost\n",
    "import xgboost as xgb"
   ]
  },
  {
   "cell_type": "code",
   "execution_count": 83,
   "metadata": {},
   "outputs": [],
   "source": [
    "dtrain = xgb.DMatrix(X_train, label = y_train)\n",
    "dtest = xgb.DMatrix(X_test, label = y_test)"
   ]
  },
  {
   "cell_type": "code",
   "execution_count": 84,
   "metadata": {},
   "outputs": [],
   "source": [
    "#creating watchlist of training\n",
    "# to see out output \n",
    "watchlist = [(dtrain,'train'),(dtest, 'eval')]"
   ]
  },
  {
   "cell_type": "code",
   "execution_count": 85,
   "metadata": {},
   "outputs": [],
   "source": [
    "params = {\n",
    "    'objective': 'binary:logistic',\n",
    "    'max_depth': 2,\n",
    "    'learning_rate': 1.0,\n",
    "    'silent': True,    # would be boolean in sklearn\n",
    "    'booster' : 'gbtree',\n",
    "    'max_depth' : 7,\n",
    "    'eval_metric' : 'auc'\n",
    "}\n",
    "# using bydeafault eta [default=0.3, alias: learning_rate]\n",
    "\n",
    "num_rounds = 100"
   ]
  },
  {
   "cell_type": "code",
   "execution_count": 87,
   "metadata": {},
   "outputs": [
    {
     "name": "stdout",
     "output_type": "stream",
     "text": [
      "[23:57:21] WARNING: C:\\Users\\Administrator\\workspace\\xgboost-win64_release_1.2.0\\src\\learner.cc:516: \n",
      "Parameters: { silent } might not be used.\n",
      "\n",
      "  This may not be accurate due to some parameters are only used in language bindings but\n",
      "  passed down to XGBoost core.  Or some parameters are not used but slip through this\n",
      "  verification. Please open an issue if you find above cases.\n",
      "\n",
      "\n",
      "[0]\ttrain-auc:0.90605\teval-auc:0.89480\n",
      "Multiple eval metrics have been passed: 'eval-auc' will be used for early stopping.\n",
      "\n",
      "Will train until eval-auc hasn't improved in 15 rounds.\n",
      "[1]\ttrain-auc:0.91939\teval-auc:0.90717\n",
      "[2]\ttrain-auc:0.92524\teval-auc:0.90985\n",
      "[3]\ttrain-auc:0.92814\teval-auc:0.90956\n",
      "[4]\ttrain-auc:0.93080\teval-auc:0.91025\n",
      "[5]\ttrain-auc:0.93723\teval-auc:0.91824\n",
      "[6]\ttrain-auc:0.94022\teval-auc:0.91701\n",
      "[7]\ttrain-auc:0.94334\teval-auc:0.91579\n",
      "[8]\ttrain-auc:0.94466\teval-auc:0.91668\n",
      "[9]\ttrain-auc:0.94573\teval-auc:0.91631\n",
      "[10]\ttrain-auc:0.94826\teval-auc:0.91679\n",
      "[11]\ttrain-auc:0.95021\teval-auc:0.91647\n",
      "[12]\ttrain-auc:0.95293\teval-auc:0.91475\n",
      "[13]\ttrain-auc:0.95478\teval-auc:0.91436\n",
      "[14]\ttrain-auc:0.95599\teval-auc:0.91397\n",
      "[15]\ttrain-auc:0.95723\teval-auc:0.91351\n",
      "[16]\ttrain-auc:0.95747\teval-auc:0.91403\n",
      "[17]\ttrain-auc:0.95921\teval-auc:0.91391\n",
      "[18]\ttrain-auc:0.96055\teval-auc:0.91406\n",
      "[19]\ttrain-auc:0.96196\teval-auc:0.91322\n",
      "[20]\ttrain-auc:0.96352\teval-auc:0.91341\n",
      "Stopping. Best iteration:\n",
      "[5]\ttrain-auc:0.93723\teval-auc:0.91824\n",
      "\n"
     ]
    }
   ],
   "source": [
    "model_xgb = xgb.train(params, dtrain, num_rounds, evals = watchlist, early_stopping_rounds = 15, verbose_eval = True)"
   ]
  },
  {
   "cell_type": "code",
   "execution_count": 88,
   "metadata": {},
   "outputs": [],
   "source": [
    "features_contribution = pd.Series(model_xgb.get_fscore()).sort_values(ascending=False)"
   ]
  },
  {
   "cell_type": "code",
   "execution_count": 90,
   "metadata": {},
   "outputs": [
    {
     "data": {
      "image/png": "[encoded data removed]",
      "text/plain": [
       "<Figure size 1440x720 with 1 Axes>"
      ]
     },
     "metadata": {},
     "output_type": "display_data"
    }
   ],
   "source": [
    "plt.figure(figsize=(20,10))\n",
    "features_contribution[:50].plot(kind='bar', title='Feature Importances')\n",
    "features_contribution[:50].plot(kind='line')\n",
    "plt.ylabel('Feature Importance Score')\n",
    "plt.show()"
   ]
  },
  {
   "cell_type": "markdown",
   "metadata": {},
   "source": [
    "#### Hyperparameter Optimisation "
   ]
  },
  {
   "cell_type": "code",
   "execution_count": 91,
   "metadata": {},
   "outputs": [],
   "source": [
    "params = {\n",
    "    \"learning_rate\"    : [0.5, 0.10, 0.15, 0.20, 0.25, 0.30], \n",
    "    \"max_depth\"        : [3,4,5,6,8,10,12,15],\n",
    "    \"min_child_weight\" : [1,3,5,7],\n",
    "    \"gamma\"            : [0.0, 0.1, 0.2, 0.3, 0.4],\n",
    "    \"colsample_bytree\" : [0.3, 0.4, 0.5, 0.7]\n",
    "}"
   ]
  },
  {
   "cell_type": "code",
   "execution_count": 92,
   "metadata": {},
   "outputs": [],
   "source": [
    "from sklearn.model_selection import RandomizedSearchCV, GridSearchCV\n",
    "import xgboost\n",
    "from xgboost import plot_importance"
   ]
  },
  {
   "cell_type": "code",
   "execution_count": 93,
   "metadata": {},
   "outputs": [],
   "source": [
    "def timer(start_time=None):\n",
    "    if not start_time:\n",
    "        start_time = datetime.now()\n",
    "        return start_time\n",
    "    elif start_time:\n",
    "        thour, temp_sec = divmod((datetime.now() - start_time).total_seconds(), 3600)\n",
    "        tmin, tsec = divmod(temp_sec, 60)\n",
    "        print(\"\\n Time taken: %i hours %i minutes and %s seconds.\" % (thour, tmin, round(tsec,2)))"
   ]
  },
  {
   "cell_type": "code",
   "execution_count": 94,
   "metadata": {},
   "outputs": [],
   "source": [
    "classifier = xgboost.XGBClassifier()"
   ]
  },
  {
   "cell_type": "code",
   "execution_count": 95,
   "metadata": {},
   "outputs": [],
   "source": [
    "RandomSCV = RandomizedSearchCV(classifier,\n",
    "                           param_distributions=params,\n",
    "                          n_iter=5,\n",
    "                          scoring=\"roc_auc\",\n",
    "                          n_jobs=-1,\n",
    "                          cv=5,\n",
    "                          verbose=3)"
   ]
  },
  {
   "cell_type": "code",
   "execution_count": 97,
   "metadata": {},
   "outputs": [
    {
     "name": "stdout",
     "output_type": "stream",
     "text": [
      "Fitting 5 folds for each of 5 candidates, totalling 25 fits\n"
     ]
    },
    {
     "name": "stderr",
     "output_type": "stream",
     "text": [
      "[Parallel(n_jobs=-1)]: Using backend LokyBackend with 4 concurrent workers.\n",
      "[Parallel(n_jobs=-1)]: Done  25 out of  25 | elapsed:  1.1min finished\n"
     ]
    },
    {
     "name": "stdout",
     "output_type": "stream",
     "text": [
      "\n",
      " Time taken: 0 hours 1 minutes and 11.18 seconds.\n"
     ]
    }
   ],
   "source": [
    "from datetime import datetime\n",
    "start_time = timer(None)\n",
    "\n",
    "# fitting the RandomSearchCV to the model\n",
    "RandomSCV.fit(X_train, y_train)\n",
    "timer(start_time)"
   ]
  },
  {
   "cell_type": "markdown",
   "metadata": {},
   "source": [
    "#### Finding the best estimator"
   ]
  },
  {
   "cell_type": "code",
   "execution_count": 98,
   "metadata": {},
   "outputs": [
    {
     "data": {
      "text/plain": [
       "XGBClassifier(base_score=0.5, booster='gbtree', colsample_bylevel=1,\n",
       "              colsample_bynode=1, colsample_bytree=0.3, gamma=0.3, gpu_id=-1,\n",
       "              importance_type='gain', interaction_constraints='',\n",
       "              learning_rate=0.3, max_delta_step=0, max_depth=5,\n",
       "              min_child_weight=3, missing=nan, monotone_constraints='()',\n",
       "              n_estimators=100, n_jobs=0, num_parallel_tree=1,\n",
       "              objective='binary:logistic', random_state=0, reg_alpha=0,\n",
       "              reg_lambda=1, scale_pos_weight=1, subsample=1,\n",
       "              tree_method='exact', validate_parameters=1, verbosity=None)"
      ]
     },
     "execution_count": 98,
     "metadata": {},
     "output_type": "execute_result"
    }
   ],
   "source": [
    "RandomSCV.best_estimator_"
   ]
  },
  {
   "cell_type": "code",
   "execution_count": 99,
   "metadata": {},
   "outputs": [
    {
     "data": {
      "text/plain": [
       "{'colsample_bytree': 0.3,\n",
       " 'gamma': 0.3,\n",
       " 'learning_rate': 0.3,\n",
       " 'max_depth': 5,\n",
       " 'min_child_weight': 3}"
      ]
     },
     "execution_count": 99,
     "metadata": {},
     "output_type": "execute_result"
    }
   ],
   "source": [
    "RandomSCV.best_params_"
   ]
  },
  {
   "cell_type": "markdown",
   "metadata": {},
   "source": [
    "#### Cross Validation"
   ]
  },
  {
   "cell_type": "code",
   "execution_count": 101,
   "metadata": {},
   "outputs": [],
   "source": [
    "from sklearn.model_selection import cross_val_score\n",
    "score = cross_val_score(classifier, X_train,y_train, cv=10)"
   ]
  },
  {
   "cell_type": "code",
   "execution_count": 102,
   "metadata": {},
   "outputs": [
    {
     "data": {
      "text/plain": [
       "array([0.86920018, 0.86648983, 0.87002653, 0.86251105, 0.85587975,\n",
       "       0.87179487, 0.86383731, 0.87444739, 0.86339523, 0.87002653])"
      ]
     },
     "execution_count": 102,
     "metadata": {},
     "output_type": "execute_result"
    }
   ],
   "source": [
    "score"
   ]
  },
  {
   "cell_type": "code",
   "execution_count": 103,
   "metadata": {},
   "outputs": [
    {
     "data": {
      "text/plain": [
       "0.8667608664820179"
      ]
     },
     "execution_count": 103,
     "metadata": {},
     "output_type": "execute_result"
    }
   ],
   "source": [
    "score.mean()"
   ]
  },
  {
   "cell_type": "code",
   "execution_count": 104,
   "metadata": {},
   "outputs": [
    {
     "data": {
      "text/plain": [
       "array([0.86917127, 0.86803714, 0.86671088, 0.86870027, 0.86759505])"
      ]
     },
     "execution_count": 104,
     "metadata": {},
     "output_type": "execute_result"
    }
   ],
   "source": [
    "# Cross-validated accuracy\n",
    "cv_acc = cross_val_score(classifier,\n",
    "                         X_train,\n",
    "                         y_train,\n",
    "                         cv=5,\n",
    "                         scoring=\"accuracy\")\n",
    "cv_acc"
   ]
  },
  {
   "cell_type": "code",
   "execution_count": 105,
   "metadata": {},
   "outputs": [
    {
     "data": {
      "text/plain": [
       "0.8680429190419664"
      ]
     },
     "execution_count": 105,
     "metadata": {},
     "output_type": "execute_result"
    }
   ],
   "source": [
    "cv_acc = np.mean(cv_acc)\n",
    "cv_acc"
   ]
  },
  {
   "cell_type": "code",
   "execution_count": 106,
   "metadata": {},
   "outputs": [
    {
     "data": {
      "text/plain": [
       "array([0.77333333, 0.76063304, 0.76608784, 0.77719665, 0.76673428])"
      ]
     },
     "execution_count": 106,
     "metadata": {},
     "output_type": "execute_result"
    }
   ],
   "source": [
    "# Cross-validated precision\n",
    "cv_precision = cross_val_score(classifier,\n",
    "                         X_train,\n",
    "                         y_train,\n",
    "                         cv=5,\n",
    "                         scoring=\"precision\")\n",
    "cv_precision"
   ]
  },
  {
   "cell_type": "code",
   "execution_count": 107,
   "metadata": {},
   "outputs": [
    {
     "data": {
      "text/plain": [
       "0.7687970294617642"
      ]
     },
     "execution_count": 107,
     "metadata": {},
     "output_type": "execute_result"
    }
   ],
   "source": [
    "cv_precision = np.mean(cv_precision)\n",
    "cv_precision"
   ]
  },
  {
   "cell_type": "code",
   "execution_count": 108,
   "metadata": {},
   "outputs": [
    {
     "data": {
      "text/plain": [
       "array([0.67022222, 0.6841637 , 0.66725979, 0.66103203, 0.672     ])"
      ]
     },
     "execution_count": 108,
     "metadata": {},
     "output_type": "execute_result"
    }
   ],
   "source": [
    "# Cross-validated recall\n",
    "cv_recall = cross_val_score(classifier,\n",
    "                         X_train,\n",
    "                         y_train,\n",
    "                         cv=5,\n",
    "                         scoring=\"recall\")\n",
    "cv_recall"
   ]
  },
  {
   "cell_type": "code",
   "execution_count": 109,
   "metadata": {},
   "outputs": [
    {
     "data": {
      "text/plain": [
       "0.6709355476472914"
      ]
     },
     "execution_count": 109,
     "metadata": {},
     "output_type": "execute_result"
    }
   ],
   "source": [
    "cv_recall = np.mean(cv_recall)\n",
    "cv_recall"
   ]
  },
  {
   "cell_type": "code",
   "execution_count": 110,
   "metadata": {},
   "outputs": [
    {
     "data": {
      "text/plain": [
       "0.716481601527577"
      ]
     },
     "execution_count": 110,
     "metadata": {},
     "output_type": "execute_result"
    }
   ],
   "source": [
    "# Cross-validated f1-score\n",
    "cv_f1 = cross_val_score(classifier,\n",
    "                         X_train,\n",
    "                         y_train,\n",
    "                         cv=5,\n",
    "                         scoring=\"f1\")\n",
    "cv_f1 = np.mean(cv_f1)\n",
    "cv_f1"
   ]
  },
  {
   "cell_type": "code",
   "execution_count": 111,
   "metadata": {},
   "outputs": [
    {
     "data": {
      "image/png": "[encoded data removed]",
      "text/plain": [
       "<Figure size 432x288 with 1 Axes>"
      ]
     },
     "metadata": {},
     "output_type": "display_data"
    }
   ],
   "source": [
    "cv_metrics = pd.DataFrame({\"Accuracy\": cv_acc,\n",
    "                           \"Precision\": cv_precision,\n",
    "                           \"Recall\": cv_recall,\n",
    "                           \"F1\": cv_f1},\n",
    "                          index=[0])\n",
    "\n",
    "cv_metrics.T.plot.bar(title=\"Cross-validated classification metrics\",\n",
    "                      legend=False);"
   ]
  },
  {
   "cell_type": "code",
   "execution_count": null,
   "metadata": {},
   "outputs": [],
   "source": []
  }
 ],
 "metadata": {
  "kernelspec": {
   "display_name": "Python 3",
   "language": "python",
   "name": "python3"
  },
  "language_info": {
   "codemirror_mode": {
    "name": "ipython",
    "version": 3
   },
   "file_extension": ".py",
   "mimetype": "text/x-python",
   "name": "python",
   "nbconvert_exporter": "python",
   "pygments_lexer": "ipython3",
   "version": "3.7.3"
  }
 },
 "nbformat": 4,
 "nbformat_minor": 2
}
