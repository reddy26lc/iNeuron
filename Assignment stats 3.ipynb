{
 "cells": [
  {
   "cell_type": "markdown",
   "metadata": {},
   "source": [
    "### Problem Statement 1: Blood glucose levels for obese patients have a mean of 100 with a standard deviation of 15. A researcher thinks that a diet high in raw cornstarch will have a positive effect on blood glucose levels. A sample of 36 patients who have tried the raw cornstarch diet have a mean glucose level of 108. Test the hypothesis that the raw cornstarch had an effect or not."
   ]
  },
  {
   "cell_type": "code",
   "execution_count": 4,
   "metadata": {},
   "outputs": [],
   "source": [
    "Sample_mean = 108\n",
    "Number_of_samples = 36\n",
    "Population_Mean = 100\n",
    "Population_Standard_deviation = 15\n",
    "\n",
    "import math"
   ]
  },
  {
   "cell_type": "markdown",
   "metadata": {},
   "source": [
    "Null hypothesis H0: Mean = 100\n",
    "Alternate hypothesis H1: Mean ≠ 100\n",
    "\n",
    "Since there is no information provided about the significance level, we can assume it to be 0.05 or 95% confidence level. "
   ]
  },
  {
   "cell_type": "code",
   "execution_count": 9,
   "metadata": {},
   "outputs": [
    {
     "data": {
      "text/plain": [
       "3.2"
      ]
     },
     "execution_count": 9,
     "metadata": {},
     "output_type": "execute_result"
    }
   ],
   "source": [
    "#Calculating Z score\n",
    "\n",
    "Sample_Error = Population_Standard_deviation/math.sqrt(Number_of_samples)\n",
    "Z_test_statistic = (Sample_mean - Population_Mean)/Sample_Error\n",
    "Z_test_statistic"
   ]
  },
  {
   "cell_type": "markdown",
   "metadata": {},
   "source": [
    "The Z value of the test statistic is 3.2. When we look up the p-value for the Z test statistic from Z table, its 0.9993. Its greater than the 0.05 significance level. Hence we can reject the null hypothesis and can conclude that the raw cornstarch had an effect on blood glucose level. "
   ]
  },
  {
   "cell_type": "markdown",
   "metadata": {},
   "source": [
    "### Problem Statement 2: In one state, 52% of the voters are Republicans, and 48% are Democrats. In a second state, 47% of the voters are Republicans, and 53% are Democrats. Suppose a simple random sample of 100 voters are surveyed from each state. What is the probability that the survey will show a greater percentage of Republican voters in the second state than in the first state?"
   ]
  },
  {
   "cell_type": "markdown",
   "metadata": {},
   "source": [
    "P1 = the proportion of Republican voters in the first state\n",
    "P2 = the proportion of Republican voters in the second state\n",
    "\n",
    "p1 = the proportion of Republican voters in the sample from the first state\n",
    "p2 = the proportion of Republican voters in the sample from the second state\n",
    "\n",
    "Number of voters sampled from the first state, n1 = 100\n",
    "Number of voters sampled from the second state, n2 = 100"
   ]
  },
  {
   "cell_type": "code",
   "execution_count": 12,
   "metadata": {},
   "outputs": [
    {
     "name": "stdout",
     "output_type": "stream",
     "text": [
      "0.48\n",
      "0.53\n"
     ]
    }
   ],
   "source": [
    "n1 = 100 * 0.52 \n",
    "n2 = 100 * 0.48\n",
    "\n",
    "P1 = 0.52\n",
    "P2 = 0.47\n",
    "##Q1 = Proportion of non-republican voters in first place \n",
    "#Q1 = 1 - P1 \n",
    "##Q2 = Proportion of non-republican voters in second state\n",
    "#Q2 = 1 - P2\n"
   ]
  },
  {
   "cell_type": "code",
   "execution_count": 18,
   "metadata": {},
   "outputs": [
    {
     "data": {
      "text/plain": [
       "0.050000000000000044"
      ]
     },
     "execution_count": 18,
     "metadata": {},
     "output_type": "execute_result"
    }
   ],
   "source": [
    "#Mean of the difference in sample proportions or the expected value E(p1 - p2)\n",
    "md = P1 - P2 \n",
    "md"
   ]
  },
  {
   "cell_type": "code",
   "execution_count": 24,
   "metadata": {},
   "outputs": [],
   "source": [
    "#Standard deviation of the difference \n",
    "std1 = (P1*(1-P1)/n1) \n",
    "std2 = (P2*(1-P2)/n2)\n",
    "std = math.sqrt(std1+std2)\n"
   ]
  },
  {
   "cell_type": "markdown",
   "metadata": {},
   "source": [
    "We need to find the probability that p1 is less than p2, i.e, p1 - p2 is less than 0. To find this probability, we need to transform the random variable p1 - p2 into a z-score. "
   ]
  },
  {
   "cell_type": "code",
   "execution_count": 25,
   "metadata": {},
   "outputs": [],
   "source": [
    "x = 0\n",
    "Z = (x - md)/std\n"
   ]
  },
  {
   "cell_type": "markdown",
   "metadata": {},
   "source": [
    "From the table we find that the probability of a Z-score being -0.7082 or less is 0.24. Therefore, the probability that the survey will show a greater percentage of Republican voters in the second state than in the first state is 0.24.\n"
   ]
  },
  {
   "cell_type": "markdown",
   "metadata": {},
   "source": [
    "### Problem Statement 3: You take the SAT and score 1100. The mean score for the SAT is 1026 and the standard deviation is 209. How well did you score on the test compared to the average test taker?\n",
    "\n"
   ]
  },
  {
   "cell_type": "code",
   "execution_count": 26,
   "metadata": {},
   "outputs": [
    {
     "name": "stdout",
     "output_type": "stream",
     "text": [
      "Z score:  0.35406698564593303\n"
     ]
    }
   ],
   "source": [
    "score = 1100\n",
    "mean_score = 1026\n",
    "std_dev = 209\n",
    "\n",
    "Z = (score - mean_score)/std_dev\n",
    "print(\"Z score: \", Z)\n"
   ]
  },
  {
   "cell_type": "markdown",
   "metadata": {},
   "source": [
    "The above calculation shows that the score is 0.35 standard deviations above the mean."
   ]
  },
  {
   "cell_type": "code",
   "execution_count": null,
   "metadata": {},
   "outputs": [],
   "source": []
  }
 ],
 "metadata": {
  "kernelspec": {
   "display_name": "Python 3",
   "language": "python",
   "name": "python3"
  },
  "language_info": {
   "codemirror_mode": {
    "name": "ipython",
    "version": 3
   },
   "file_extension": ".py",
   "mimetype": "text/x-python",
   "name": "python",
   "nbconvert_exporter": "python",
   "pygments_lexer": "ipython3",
   "version": "3.7.3"
  }
 },
 "nbformat": 4,
 "nbformat_minor": 2
}
