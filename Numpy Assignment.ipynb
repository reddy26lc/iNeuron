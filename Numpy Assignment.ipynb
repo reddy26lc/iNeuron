{
 "cells": [
  {
   "cell_type": "markdown",
   "metadata": {},
   "source": [
    "#### Question 1\n",
    "\n",
    "Write a function so that the columns of the output matrix are powers of the input\n",
    "vector.\n",
    "The order of the powers is determined by the increasing boolean argument. Specifically, when\n",
    "increasing is False, the i-th output column is the input vector raised element-wise to the power\n",
    "of N - i - 1.\n",
    "\n",
    "HINT: Such a matrix with a geometric progression in each row is named for Alexandre-\n",
    "Theophile Vandermonde."
   ]
  },
  {
   "cell_type": "code",
   "execution_count": 7,
   "metadata": {},
   "outputs": [
    {
     "name": "stdout",
     "output_type": "stream",
     "text": [
      "------------OUTPUT-------------\n",
      "\n",
      "The input array is: [1 2 3 4 5] \n",
      "\n",
      "Number of columns in output matrix should be: 3 \n",
      "\n",
      "Vander matrix of the input array in decreasing order of powers:\n",
      "\n",
      " [[ 1  1  1]\n",
      " [ 4  2  1]\n",
      " [ 9  3  1]\n",
      " [16  4  1]\n",
      " [25  5  1]] \n",
      "\n",
      "Vander matrix of the input array in increasing order of powers:\n",
      "\n",
      " [[ 1  1  1]\n",
      " [ 1  2  4]\n",
      " [ 1  3  9]\n",
      " [ 1  4 16]\n",
      " [ 1  5 25]] \n",
      "\n",
      "---------------------------------------------------------------\n",
      "\n",
      "The input array is: [3 4 5 2 1 8] \n",
      "\n",
      "Number of columns in output matrix should be: 4 \n",
      "\n",
      "Vander matrix of the input array in decreasing order of powers:\n",
      "\n",
      " [[ 27   9   3   1]\n",
      " [ 64  16   4   1]\n",
      " [125  25   5   1]\n",
      " [  8   4   2   1]\n",
      " [  1   1   1   1]\n",
      " [512  64   8   1]] \n",
      "\n",
      "Vander matrix of the input array in increasing order of powers:\n",
      "\n",
      " [[  1   3   9  27]\n",
      " [  1   4  16  64]\n",
      " [  1   5  25 125]\n",
      " [  1   2   4   8]\n",
      " [  1   1   1   1]\n",
      " [  1   8  64 512]] \n",
      "\n"
     ]
    }
   ],
   "source": [
    "import numpy as np\n",
    "\n",
    "## Iterate over each number in the input vector n times, n being the number of columns in the o/p matrix and output \n",
    "## an intermediate vector. Use diff order formula based on increasing and decreasing condition.\n",
    "## Reshape the intermediate vector using the size of the input vector (rows) and n (columns) to generate the o/p matrix. \n",
    "   \n",
    "def vander_matrix(input_vector, n, increasing):\n",
    "    \n",
    "    if not increasing:\n",
    "        output = np.array([x**(n-1-i) for x in input_vector for i in range(n)]).reshape(input_vector.size,n)\n",
    "    elif increasing:\n",
    "        output = np.array([x**i for x in input_vector for i in range(n)]).reshape(input_vector.size,n)\n",
    "    \n",
    "    return output\n",
    "\n",
    "print(\"------------OUTPUT-------------\\n\")\n",
    "\n",
    "input_vector = np.array([1,2,3,4,5])\n",
    "n = 3\n",
    "output_dec_order = vander_matrix(input_vector,n,False)\n",
    "output_inc_order = vander_matrix(input_vector,n,True)\n",
    "\n",
    "print(\"The input array is:\",input_vector,\"\\n\")\n",
    "print(\"Number of columns in output matrix should be:\",n,\"\\n\")\n",
    "print(\"Vander matrix of the input array in decreasing order of powers:\\n\\n\",output_dec_order,\"\\n\")\n",
    "print(\"Vander matrix of the input array in increasing order of powers:\\n\\n\",output_inc_order,\"\\n\")\n",
    "\n",
    "input_vector = np.array([3,4,5,2,1,8])\n",
    "n = 4\n",
    "output_dec_order = vander_matrix(input_vector,n,False)\n",
    "output_inc_order = vander_matrix(input_vector,n,True)\n",
    "\n",
    "print(\"---------------------------------------------------------------\\n\")\n",
    "print(\"The input array is:\",input_vector,\"\\n\")\n",
    "print(\"Number of columns in output matrix should be:\",n,\"\\n\")\n",
    "print(\"Vander matrix of the input array in decreasing order of powers:\\n\\n\",output_dec_order,\"\\n\")\n",
    "print(\"Vander matrix of the input array in increasing order of powers:\\n\\n\",output_inc_order,\"\\n\")"
   ]
  },
  {
   "cell_type": "markdown",
   "metadata": {},
   "source": [
    "#### Question 2 \n",
    "\n",
    "Problem Statement:\n",
    "\n",
    "Given a sequence of n values x1, x2, ..., xn and a window size k>0, the k-th moving average of\n",
    "the given sequence is defined as follows:\n",
    "The moving average sequence has n-k+1 elements as shown below.\n",
    "\n",
    "The moving averages with k=4 of a ten-value sequence (n=10) is shown below\n",
    "\n",
    "i 1 2 3 4 5 6 7 8 9 10\n",
    "===== == == == == == == == == == ==\n",
    "Input 10 20 30 40 50 60 70 80 90 100\n",
    "y1 25 = (10+20+30+40)/4\n",
    "y2 35 = (20+30+40+50)/4\n",
    "y3 45 = (30+40+50+60)/4\n",
    "y4 55 = (40+50+60+70)/4\n",
    "y5 65 = (50+60+70+80)/4\n",
    "y6 75 = (60+70+80+90)/4\n",
    "y7 85 = (70+80+90+100)/4\n",
    "\n",
    "Thus, the moving average sequence has n-k+1=10-4+1=7 values."
   ]
  },
  {
   "cell_type": "markdown",
   "metadata": {},
   "source": [
    "#### Question: Write a function to find moving average in an array over a window: Test it over [3, 5, 7, 2, 8, 10, 11, 65, 72, 81, 99, 100, 150] and window of 3.\n",
    "\n"
   ]
  },
  {
   "cell_type": "code",
   "execution_count": 15,
   "metadata": {},
   "outputs": [],
   "source": [
    "def moving_average(input_list, k):\n",
    "    cumsum, moving_aves = [0], []\n",
    "    for i, x in enumerate(input_list, 1):\n",
    "        cumsum.append(cumsum[i-1] + x) # summing up all the values one by one and appending the list\n",
    "        if i>=k:\n",
    "            moving_ave = round(((cumsum[i] - cumsum[i-k])/k),2) #computing the moving average using temp array sum array cumsum\n",
    "            #can do stuff with moving_ave here\n",
    "            moving_aves.append(moving_ave) # listing the moving average as an single array\n",
    "    \n",
    "    print(\"Moving average values list: \", moving_aves)\n",
    "    print(\"Length of the list n-k+1: \", len(moving_aves))"
   ]
  },
  {
   "cell_type": "code",
   "execution_count": 16,
   "metadata": {},
   "outputs": [
    {
     "name": "stdout",
     "output_type": "stream",
     "text": [
      "Moving average values list:  [25.0, 35.0, 45.0, 55.0, 65.0, 75.0, 85.0]\n",
      "Length of the list n-k+1:  7\n"
     ]
    }
   ],
   "source": [
    "#Let's test with the example:\n",
    "\n",
    "input_list = [10, 20, 30, 40, 50, 60, 70, 80, 90, 100]\n",
    "k = 4\n",
    "moving_average(input_list,k)"
   ]
  },
  {
   "cell_type": "code",
   "execution_count": 17,
   "metadata": {},
   "outputs": [
    {
     "name": "stdout",
     "output_type": "stream",
     "text": [
      "Moving average values list:  [5.0, 4.67, 5.67, 6.67, 9.67, 28.67, 49.33, 72.67, 84.0, 93.33, 116.33]\n",
      "Length of the list n-k+1:  11\n"
     ]
    }
   ],
   "source": [
    "#Answering the question\n",
    "\n",
    "input_list = [3, 5, 7, 2, 8, 10, 11, 65, 72, 81, 99, 100, 150] \n",
    "k = 3\n",
    "moving_average(input_list,k)"
   ]
  },
  {
   "cell_type": "code",
   "execution_count": null,
   "metadata": {},
   "outputs": [],
   "source": []
  }
 ],
 "metadata": {
  "kernelspec": {
   "display_name": "Python 3",
   "language": "python",
   "name": "python3"
  },
  "language_info": {
   "codemirror_mode": {
    "name": "ipython",
    "version": 3
   },
   "file_extension": ".py",
   "mimetype": "text/x-python",
   "name": "python",
   "nbconvert_exporter": "python",
   "pygments_lexer": "ipython3",
   "version": "3.7.3"
  }
 },
 "nbformat": 4,
 "nbformat_minor": 2
}
