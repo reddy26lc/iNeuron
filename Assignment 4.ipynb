{
 "cells": [
  {
   "cell_type": "markdown",
   "metadata": {},
   "source": [
    "#### Question 1.1\n",
    "Write a Python Program(with class concepts) to find the area of the triangle using the below\n",
    "formula.\n",
    "\n",
    "area = (s*(s-a)*(s-b)*(s-c)) ** 0.5\n",
    "\n",
    "Function to take the length of the sides of triangle from user should be defined in the parent\n",
    "class and function to calculate the area should be defined in subclass."
   ]
  },
  {
   "cell_type": "code",
   "execution_count": 1,
   "metadata": {},
   "outputs": [
    {
     "name": "stdout",
     "output_type": "stream",
     "text": [
      "Enter the value for side a:12\n",
      "Enter the value for side b:13\n",
      "Enter the value for side c:14\n",
      "Area of the triangle: 72.31\n"
     ]
    }
   ],
   "source": [
    "class Triangle():\n",
    "    def __init__(self, a, b, c):\n",
    "        self.side1 = float(a)\n",
    "        self.side2 = float(b)\n",
    "        self.side3 = float(c)\n",
    "    \n",
    "class Area(Triangle):   \n",
    "    def __init__(self,*args):\n",
    "        super(Area,self).__init__(*args)\n",
    "        \n",
    "    def area(self):\n",
    "        s = (self.side1 + self.side2 + self.side3)/2\n",
    "        area = round((s*(s-self.side1)*(s-self.side2)*(s-self.side3))**0.5, 2)\n",
    "        return area\n",
    "side1 = input(\"Enter the value for side a:\")\n",
    "side2 = input(\"Enter the value for side b:\")\n",
    "side3 = input(\"Enter the value for side c:\")\n",
    "\n",
    "Area_Triangle = Area(side1,side2,side3)\n",
    "\n",
    "print((\"Area of the triangle:\"), Area_Triangle.area())"
   ]
  },
  {
   "cell_type": "markdown",
   "metadata": {},
   "source": [
    "#### Question 1.2 \n",
    "Write a function filter_long_words() that takes a list of words and an integer n and returns\n",
    "the list of words that are longer than n.\n"
   ]
  },
  {
   "cell_type": "code",
   "execution_count": 9,
   "metadata": {
    "scrolled": true
   },
   "outputs": [
    {
     "data": {
      "text/plain": [
       "['Python', 'try', 'names']"
      ]
     },
     "execution_count": 9,
     "metadata": {},
     "output_type": "execute_result"
    }
   ],
   "source": [
    "class Words():\n",
    "    def __init__(self,wordlist,n):\n",
    "        self.words = wordlist\n",
    "        self.integer = int(n)\n",
    "        \n",
    "    def filter_long_words(self):\n",
    "        wordlist = []\n",
    "        for i in self.words:\n",
    "            if (len(i) > self.integer):\n",
    "                wordlist.append(i)\n",
    "        return wordlist\n",
    "\n",
    "    \n",
    "#words = input(\"Enter words:\")\n",
    "#integer = int(input(\"Enter a number:\"))\n",
    "word_list = ['Python','try','names','it']\n",
    "num = 2\n",
    "\n",
    "filtered = Words(word_list,num)\n",
    "filtered.filter_long_words()\n"
   ]
  },
  {
   "cell_type": "markdown",
   "metadata": {},
   "source": [
    "#### Answer to Question 1.2 without using OOPS"
   ]
  },
  {
   "cell_type": "code",
   "execution_count": 12,
   "metadata": {},
   "outputs": [
    {
     "data": {
      "text/plain": [
       "['Python', 'names']"
      ]
     },
     "execution_count": 12,
     "metadata": {},
     "output_type": "execute_result"
    }
   ],
   "source": [
    "def filter_long_words(words,n):\n",
    "        wordlist = []\n",
    "        for i in words:\n",
    "            if len(i) > n:\n",
    "                wordlist.append(i)\n",
    "        return wordlist\n",
    "filter_long_words(['Python','try','names','it'],3)"
   ]
  },
  {
   "cell_type": "markdown",
   "metadata": {},
   "source": [
    "#### Question 2.1 \n",
    "Write a Python program using function concept that maps list of words into a list of integers\n",
    "representing the lengths of the corresponding words.\n",
    "\n",
    "Hint: If a list [ ab,cde,erty] is passed on to the python function output should come as [2,3,4]\n",
    "Here 2,3 and 4 are the lengths of the words in the list."
   ]
  },
  {
   "cell_type": "code",
   "execution_count": 13,
   "metadata": {},
   "outputs": [
    {
     "data": {
      "text/plain": [
       "[5, 7, 1, 2]"
      ]
     },
     "execution_count": 13,
     "metadata": {},
     "output_type": "execute_result"
    }
   ],
   "source": [
    "def wordlen(words):\n",
    "    wordlist = []\n",
    "    for i in words:\n",
    "        wordlist.append(len(i))\n",
    "    return wordlist\n",
    "\n",
    "\n",
    "wordlen(['Hello','welcome','I','MY'])\n"
   ]
  },
  {
   "cell_type": "markdown",
   "metadata": {},
   "source": [
    "#### Question 2.2 \n",
    "Write a Python function which takes a character (i.e. a string of length 1) and returns True if\n",
    "it is a vowel, False otherwise."
   ]
  },
  {
   "cell_type": "code",
   "execution_count": 14,
   "metadata": {},
   "outputs": [
    {
     "name": "stdout",
     "output_type": "stream",
     "text": [
      "Enter a letter:K\n"
     ]
    },
    {
     "data": {
      "text/plain": [
       "False"
      ]
     },
     "execution_count": 14,
     "metadata": {},
     "output_type": "execute_result"
    }
   ],
   "source": [
    "def Consonant(character):\n",
    "    vowels = 'aeiouAEIOU'\n",
    "    \n",
    "    if character in vowels:\n",
    "        return True\n",
    "    else:\n",
    "        return False\n",
    "    \n",
    "letter = input(\"Enter a letter:\")\n",
    "\n",
    "Consonant(letter)    \n",
    "    \n",
    "  "
   ]
  },
  {
   "cell_type": "code",
   "execution_count": 15,
   "metadata": {},
   "outputs": [
    {
     "data": {
      "text/plain": [
       "True"
      ]
     },
     "execution_count": 15,
     "metadata": {},
     "output_type": "execute_result"
    }
   ],
   "source": [
    "Consonant('a')"
   ]
  },
  {
   "cell_type": "code",
   "execution_count": 16,
   "metadata": {},
   "outputs": [
    {
     "data": {
      "text/plain": [
       "False"
      ]
     },
     "execution_count": 16,
     "metadata": {},
     "output_type": "execute_result"
    }
   ],
   "source": [
    "Consonant('Q')"
   ]
  },
  {
   "cell_type": "code",
   "execution_count": null,
   "metadata": {},
   "outputs": [],
   "source": []
  }
 ],
 "metadata": {
  "kernelspec": {
   "display_name": "Python 3",
   "language": "python",
   "name": "python3"
  },
  "language_info": {
   "codemirror_mode": {
    "name": "ipython",
    "version": 3
   },
   "file_extension": ".py",
   "mimetype": "text/x-python",
   "name": "python",
   "nbconvert_exporter": "python",
   "pygments_lexer": "ipython3",
   "version": "3.7.3"
  }
 },
 "nbformat": 4,
 "nbformat_minor": 2
}
