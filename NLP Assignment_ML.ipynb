{
 "cells": [
  {
   "cell_type": "markdown",
   "metadata": {},
   "source": [
    "#### In this assignment students have to find the frequency of words in a webpage. User can use urllib and BeautifulSoup to extract text from webpage."
   ]
  },
  {
   "cell_type": "code",
   "execution_count": 1,
   "metadata": {},
   "outputs": [],
   "source": [
    "from bs4 import BeautifulSoup\n",
    "import urllib.request\n",
    "import nltk\n",
    "\n",
    "response = urllib.request.urlopen('http://php.net/')\n",
    "html = response.read()\n",
    "soup = BeautifulSoup(html,\"html5lib\")"
   ]
  },
  {
   "cell_type": "code",
   "execution_count": 2,
   "metadata": {},
   "outputs": [
    {
     "data": {
      "text/plain": [
       "<title>PHP: Hypertext Preprocessor</title>"
      ]
     },
     "execution_count": 2,
     "metadata": {},
     "output_type": "execute_result"
    }
   ],
   "source": [
    "#Let's check the title of the webpage\n",
    "soup.title\n"
   ]
  },
  {
   "cell_type": "code",
   "execution_count": 3,
   "metadata": {},
   "outputs": [
    {
     "data": {
      "text/plain": [
       "'PHP: Hypertext Preprocessor'"
      ]
     },
     "execution_count": 3,
     "metadata": {},
     "output_type": "execute_result"
    }
   ],
   "source": [
    "#Let's type the title as a string\n",
    "soup.title.string"
   ]
  },
  {
   "cell_type": "code",
   "execution_count": 4,
   "metadata": {},
   "outputs": [
    {
     "data": {
      "text/plain": [
       "[<a class=\"brand\" href=\"/\"><img alt=\"php\" height=\"24\" src=\"/images/logos/php-logo.svg\" width=\"48\"/></a>,\n",
       " <a href=\"/downloads\">Downloads</a>,\n",
       " <a href=\"/docs.php\">Documentation</a>,\n",
       " <a href=\"/get-involved\">Get Involved</a>,\n",
       " <a href=\"/support\">Help</a>,\n",
       " <a href=\"/manual/en/getting-started.php\">Getting Started</a>,\n",
       " <a href=\"/manual/en/introduction.php\">Introduction</a>,\n",
       " <a href=\"/manual/en/tutorial.php\">A simple tutorial</a>,\n",
       " <a href=\"/manual/en/langref.php\">Language Reference</a>,\n",
       " <a href=\"/manual/en/language.basic-syntax.php\">Basic syntax</a>,\n",
       " <a href=\"/manual/en/language.types.php\">Types</a>,\n",
       " <a href=\"/manual/en/language.variables.php\">Variables</a>,\n",
       " <a href=\"/manual/en/language.constants.php\">Constants</a>,\n",
       " <a href=\"/manual/en/language.expressions.php\">Expressions</a>,\n",
       " <a href=\"/manual/en/language.operators.php\">Operators</a>]"
      ]
     },
     "execution_count": 4,
     "metadata": {},
     "output_type": "execute_result"
    }
   ],
   "source": [
    "soup.findAll(\"a\")[:15]\n",
    "\n"
   ]
  },
  {
   "cell_type": "code",
   "execution_count": 5,
   "metadata": {},
   "outputs": [],
   "source": [
    "#Let's check the text\n",
    "text = soup.get_text()\n",
    "#print(text)"
   ]
  },
  {
   "cell_type": "markdown",
   "metadata": {},
   "source": [
    "#### Extracting words from the text"
   ]
  },
  {
   "cell_type": "code",
   "execution_count": 6,
   "metadata": {},
   "outputs": [
    {
     "data": {
      "text/plain": [
       "['PHP',\n",
       " ':',\n",
       " 'Hypertext',\n",
       " 'Preprocessor',\n",
       " 'Downloads',\n",
       " 'Documentation',\n",
       " 'Get',\n",
       " 'Involved',\n",
       " 'Help',\n",
       " 'Getting',\n",
       " 'Started',\n",
       " 'Introduction',\n",
       " 'A',\n",
       " 'simple',\n",
       " 'tutorial',\n",
       " 'Language',\n",
       " 'Reference',\n",
       " 'Basic',\n",
       " 'syntax',\n",
       " 'Types']"
      ]
     },
     "execution_count": 6,
     "metadata": {},
     "output_type": "execute_result"
    }
   ],
   "source": [
    "#Tokenizing using nltk\n",
    "\n",
    "\n",
    "words_text = nltk.word_tokenize(text)\n",
    "words_text[:20]"
   ]
  },
  {
   "cell_type": "code",
   "execution_count": 7,
   "metadata": {},
   "outputs": [
    {
     "data": {
      "text/plain": [
       "['php',\n",
       " ':',\n",
       " 'hypertext',\n",
       " 'preprocessor',\n",
       " 'downloads',\n",
       " 'documentation',\n",
       " 'get',\n",
       " 'involved',\n",
       " 'help',\n",
       " 'getting',\n",
       " 'started',\n",
       " 'introduction',\n",
       " 'a',\n",
       " 'simple',\n",
       " 'tutorial',\n",
       " 'language',\n",
       " 'reference',\n",
       " 'basic',\n",
       " 'syntax',\n",
       " 'types']"
      ]
     },
     "execution_count": 7,
     "metadata": {},
     "output_type": "execute_result"
    }
   ],
   "source": [
    "#Convert all the words to lowercase letters\n",
    "\n",
    "words = []\n",
    "\n",
    "for word in words_text:\n",
    "    words.append(word.lower())\n",
    "    \n",
    "words[:20]"
   ]
  },
  {
   "cell_type": "code",
   "execution_count": 8,
   "metadata": {},
   "outputs": [
    {
     "data": {
      "text/plain": [
       "['php',\n",
       " ':',\n",
       " 'hypertext',\n",
       " 'preprocessor',\n",
       " 'downloads',\n",
       " 'documentation',\n",
       " 'get',\n",
       " 'involved',\n",
       " 'help',\n",
       " 'getting',\n",
       " 'started',\n",
       " 'introduction',\n",
       " 'simple',\n",
       " 'tutorial',\n",
       " 'language',\n",
       " 'reference',\n",
       " 'basic',\n",
       " 'syntax',\n",
       " 'types',\n",
       " 'variables']"
      ]
     },
     "execution_count": 8,
     "metadata": {},
     "output_type": "execute_result"
    }
   ],
   "source": [
    "#Let's remove the stopwords\n",
    "\n",
    "sw = nltk.corpus.stopwords.words(\"english\")\n",
    "\n",
    "words_sw_not = []\n",
    "for word in words:\n",
    "    if word not in sw:\n",
    "        words_sw_not.append(word)\n",
    "        \n",
    "words_sw_not[:20]"
   ]
  },
  {
   "cell_type": "code",
   "execution_count": 9,
   "metadata": {},
   "outputs": [
    {
     "data": {
      "image/png": "[encoded data removed]",
      "text/plain": [
       "<Figure size 432x288 with 1 Axes>"
      ]
     },
     "metadata": {},
     "output_type": "display_data"
    }
   ],
   "source": [
    "#Let's plot a frewuency histogram to find the most frequent words in the webpage\n",
    "\n",
    "import matplotlib.pyplot as plt\n",
    "import seaborn as sns\n",
    "%matplotlib inline\n",
    "\n",
    "sns.set()\n",
    "\n",
    "freq = nltk.FreqDist(words_sw_not)\n",
    "freq.plot(20)"
   ]
  },
  {
   "cell_type": "markdown",
   "metadata": {},
   "source": [
    "#### The above frequency distribution plot shows the 20 mose frequent words. 'php' is the most common, followed by release, downloads, found etc. "
   ]
  },
  {
   "cell_type": "code",
   "execution_count": null,
   "metadata": {},
   "outputs": [],
   "source": []
  }
 ],
 "metadata": {
  "kernelspec": {
   "display_name": "Python 3",
   "language": "python",
   "name": "python3"
  },
  "language_info": {
   "codemirror_mode": {
    "name": "ipython",
    "version": 3
   },
   "file_extension": ".py",
   "mimetype": "text/x-python",
   "name": "python",
   "nbconvert_exporter": "python",
   "pygments_lexer": "ipython3",
   "version": "3.7.3"
  }
 },
 "nbformat": 4,
 "nbformat_minor": 2
}
