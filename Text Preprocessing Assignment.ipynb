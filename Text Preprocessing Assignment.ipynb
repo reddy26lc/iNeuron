{
 "cells": [
  {
   "cell_type": "markdown",
   "metadata": {},
   "source": [
    "### Question 1. Write a python program to find out the words after '@' from the below sentences with the use of regex.\n",
    "\n",
    "\n",
    "\"xyz@gmail.com\",\n",
    "\n",
    "\"abc@yahoo.com\",\n",
    "\n",
    "\"xyz@hotmail.com\",\n",
    "\n",
    "\"abc@ineuron.ai\",\n",
    "\n",
    "\"xyz@outlook.com\""
   ]
  },
  {
   "cell_type": "code",
   "execution_count": 1,
   "metadata": {},
   "outputs": [
    {
     "name": "stdout",
     "output_type": "stream",
     "text": [
      "@gmail.com\n",
      "@gmail.com\n",
      "@hotmail.com\n",
      "@ineuron.ai\n",
      "@outlook.com\n"
     ]
    }
   ],
   "source": [
    "import re\n",
    "text = \"xyz@gmail.com, abc@gmail.com, xyz@hotmail.com, abc@ineuron.ai, xyz@outlook.com\"\n",
    "\n",
    "emails = re.findall(r'@[\\w\\.-]+', text)\n",
    "\n",
    "for e in emails:\n",
    "    print(e)\n",
    "    "
   ]
  },
  {
   "cell_type": "markdown",
   "metadata": {},
   "source": [
    "### Question 2.  Write a python program with the use of regex to take out the word \"New\" from the following sentence.\n",
    "\n",
    "[\"New Delhi is the capital of India\"]"
   ]
  },
  {
   "cell_type": "code",
   "execution_count": 2,
   "metadata": {},
   "outputs": [
    {
     "name": "stdout",
     "output_type": "stream",
     "text": [
      " Delhi is the capital of India\n"
     ]
    }
   ],
   "source": [
    "sentence = \"New Delhi is the capital of India\"\n",
    "print (re.sub(r'^\\w+\\s', ' ', sentence))\n"
   ]
  },
  {
   "cell_type": "markdown",
   "metadata": {},
   "source": [
    "### Question 3. Create one python program in which you have to lowercase the sentence first and than delete digits from the following sentence.\n",
    "\n",
    "\"In India, 184 people got affected with Corona virus and 4 are died.\""
   ]
  },
  {
   "cell_type": "code",
   "execution_count": 3,
   "metadata": {},
   "outputs": [
    {
     "name": "stdout",
     "output_type": "stream",
     "text": [
      "in india,  people got affected with corona virus and  are died.\n"
     ]
    }
   ],
   "source": [
    "example = 'In India, 184 people got affected with Corona virus and 4 are died.'\n",
    "#lowercase_example = example.lower()\n",
    "#print(lowercase_example)\n",
    "#def no_num(content): \n",
    " #   result = re.sub(r'\\d+', '', content) \n",
    "def no_num(content): \n",
    "    result = re.sub(r'\\d+', '', content.lower()) \n",
    "    return result \n",
    "print(no_num(example))"
   ]
  },
  {
   "cell_type": "markdown",
   "metadata": {},
   "source": [
    "### Question 4. Do stemming, lemmatization and tokenization from the following sentence.\n",
    "\n",
    "\"I hope that, when I have built up my savings, I will be able to travel to Hawai.\""
   ]
  },
  {
   "cell_type": "markdown",
   "metadata": {},
   "source": [
    "##### First lets do stemming"
   ]
  },
  {
   "cell_type": "code",
   "execution_count": 4,
   "metadata": {},
   "outputs": [
    {
     "name": "stderr",
     "output_type": "stream",
     "text": [
      "[nltk_data] Downloading package punkt to\n",
      "[nltk_data]     C:\\Users\\leo26\\AppData\\Roaming\\nltk_data...\n",
      "[nltk_data]   Package punkt is already up-to-date!\n"
     ]
    },
    {
     "data": {
      "text/plain": [
       "['I',\n",
       " 'hope',\n",
       " 'that',\n",
       " ',',\n",
       " 'when',\n",
       " 'I',\n",
       " 'have',\n",
       " 'built',\n",
       " 'up',\n",
       " 'my',\n",
       " 'save',\n",
       " ',',\n",
       " 'I',\n",
       " 'will',\n",
       " 'be',\n",
       " 'abl',\n",
       " 'to',\n",
       " 'travel',\n",
       " 'to',\n",
       " 'hawai',\n",
       " '.']"
      ]
     },
     "execution_count": 4,
     "metadata": {},
     "output_type": "execute_result"
    }
   ],
   "source": [
    "#importing nltk's porter stemmer \n",
    "import nltk\n",
    "nltk.download('punkt')\n",
    "from nltk.stem.porter import PorterStemmer \n",
    "from nltk.tokenize import word_tokenize \n",
    "from nltk.stem import wordnet \n",
    "\n",
    "stem1 = PorterStemmer() \n",
    "  \n",
    "# stem words in the list of tokenised words \n",
    "def s_words(texts): \n",
    "    word_tokens = word_tokenize(texts) \n",
    "    stems = [stem1.stem(word) for word in word_tokens] \n",
    "    return stems \n",
    "  \n",
    "data = \"I hope that, when I have built up my savings, I will be able to travel to Hawai.\"\n",
    "s_words(data)"
   ]
  },
  {
   "cell_type": "markdown",
   "metadata": {},
   "source": [
    "#### Then let's apply Lemmatization"
   ]
  },
  {
   "cell_type": "code",
   "execution_count": 5,
   "metadata": {},
   "outputs": [
    {
     "name": "stderr",
     "output_type": "stream",
     "text": [
      "[nltk_data] Downloading package wordnet to\n",
      "[nltk_data]     C:\\Users\\leo26\\AppData\\Roaming\\nltk_data...\n",
      "[nltk_data]   Package wordnet is already up-to-date!\n"
     ]
    },
    {
     "data": {
      "text/plain": [
       "['I',\n",
       " 'hope',\n",
       " 'that',\n",
       " ',',\n",
       " 'when',\n",
       " 'I',\n",
       " 'have',\n",
       " 'build',\n",
       " 'up',\n",
       " 'my',\n",
       " 'save',\n",
       " ',',\n",
       " 'I',\n",
       " 'will',\n",
       " 'be',\n",
       " 'able',\n",
       " 'to',\n",
       " 'travel',\n",
       " 'to',\n",
       " 'Hawai',\n",
       " '.']"
      ]
     },
     "execution_count": 5,
     "metadata": {},
     "output_type": "execute_result"
    }
   ],
   "source": [
    "lemma = wordnet.WordNetLemmatizer()\n",
    "nltk.download('wordnet')\n",
    "# lemmatize string \n",
    "def lemmatize_word(text): \n",
    "    word_tokens = word_tokenize(text) \n",
    "    # provide context i.e. part-of-speech(pos)\n",
    "    lemmas = [lemma.lemmatize(word, pos ='v') for word in word_tokens] \n",
    "    return lemmas \n",
    "  \n",
    "data = \"I hope that, when I have built up my savings, I will be able to travel to Hawai.\"\n",
    "lemmatize_word(data)"
   ]
  },
  {
   "cell_type": "markdown",
   "metadata": {},
   "source": [
    "#### Finally let's do tokenization"
   ]
  },
  {
   "cell_type": "code",
   "execution_count": 6,
   "metadata": {},
   "outputs": [
    {
     "name": "stdout",
     "output_type": "stream",
     "text": [
      "18\n"
     ]
    },
    {
     "data": {
      "text/plain": [
       "['I',\n",
       " 'hope',\n",
       " 'that,',\n",
       " 'when',\n",
       " 'I',\n",
       " 'have',\n",
       " 'built',\n",
       " 'up',\n",
       " 'my',\n",
       " 'savings,',\n",
       " 'I',\n",
       " 'will',\n",
       " 'be',\n",
       " 'able',\n",
       " 'to',\n",
       " 'travel',\n",
       " 'to',\n",
       " 'Hawai.']"
      ]
     },
     "execution_count": 6,
     "metadata": {},
     "output_type": "execute_result"
    }
   ],
   "source": [
    "from nltk.tokenize.regexp import WhitespaceTokenizer\n",
    "tokens = WhitespaceTokenizer().tokenize(data)\n",
    "print(len(tokens))\n",
    "tokens"
   ]
  },
  {
   "cell_type": "markdown",
   "metadata": {},
   "source": [
    "### Question 5. Create one python program from the following sentence.\n",
    "\n",
    "\"I love NLP, not you\"\n",
    "\n",
    "output : ['I', 'l', 'N', 'n', 'y']"
   ]
  },
  {
   "cell_type": "code",
   "execution_count": 7,
   "metadata": {},
   "outputs": [
    {
     "name": "stdout",
     "output_type": "stream",
     "text": [
      "['I', 'l', 'N', 'n', 'y']\n"
     ]
    }
   ],
   "source": [
    "sentence1 = \"I love NLP, not you\"\n",
    "print (re.findall(r'\\b[a-zA-Z]', sentence1))"
   ]
  },
  {
   "cell_type": "code",
   "execution_count": null,
   "metadata": {},
   "outputs": [],
   "source": []
  }
 ],
 "metadata": {
  "kernelspec": {
   "display_name": "Python 3",
   "language": "python",
   "name": "python3"
  },
  "language_info": {
   "codemirror_mode": {
    "name": "ipython",
    "version": 3
   },
   "file_extension": ".py",
   "mimetype": "text/x-python",
   "name": "python",
   "nbconvert_exporter": "python",
   "pygments_lexer": "ipython3",
   "version": "3.7.3"
  }
 },
 "nbformat": 4,
 "nbformat_minor": 2
}
